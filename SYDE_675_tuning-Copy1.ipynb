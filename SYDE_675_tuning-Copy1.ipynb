{
 "cells": [
  {
   "cell_type": "code",
   "execution_count": 1,
   "metadata": {},
   "outputs": [],
   "source": [
    "import numpy as np\n",
    "import os\n",
    "import pandas as pd\n",
    "from sklearn import svm\n",
    "from sklearn.model_selection import GridSearchCV\n",
    "from sklearn.model_selection import train_test_split\n",
    "from sklearn.neighbors import KNeighborsClassifier\n",
    "from sklearn.ensemble import GradientBoostingClassifier\n",
    "    \n",
    "data_path = os.path.join('.','tests','test_output')\n",
    "\n",
    "X = np.load(os.path.join(data_path,'x_split_alt_0.npy'),mmap_mode='r')\n",
    "Y = np.load(os.path.join(data_path,'y_split_alt_0.npy'),mmap_mode='r')\n",
    "\n",
    "param_svm = [\n",
    "    {'C': [100, 1000,10000], 'kernel': ['rbf']}\n",
    " ]\n",
    "\n",
    "param_knn = [\n",
    "    {'n_neighbors': [1, 3, 5]}\n",
    " ]\n",
    "\n",
    "paran_gdt = [\n",
    "    {'max_depth':[1,4,10]}\n",
    "]"
   ]
  },
  {
   "cell_type": "code",
   "execution_count": 2,
   "metadata": {},
   "outputs": [
    {
     "data": {
      "text/plain": [
       "GridSearchCV(cv=3, error_score='raise-deprecating',\n",
       "       estimator=KNeighborsClassifier(algorithm='auto', leaf_size=30, metric='minkowski',\n",
       "           metric_params=None, n_jobs=None, n_neighbors=5, p=2,\n",
       "           weights='uniform'),\n",
       "       fit_params=None, iid='warn', n_jobs=4,\n",
       "       param_grid=[{'n_neighbors': [1, 3, 5]}], pre_dispatch=4, refit=True,\n",
       "       return_train_score=True, scoring=None, verbose=0)"
      ]
     },
     "execution_count": 2,
     "metadata": {},
     "output_type": "execute_result"
    }
   ],
   "source": [
    "knn = KNeighborsClassifier()\n",
    "clf_knn = GridSearchCV(knn, param_knn, cv=3, n_jobs = 4,pre_dispatch = 4,return_train_score=True)\n",
    "clf_knn.fit(X,Y)"
   ]
  },
  {
   "cell_type": "code",
   "execution_count": 3,
   "metadata": {},
   "outputs": [],
   "source": [
    "results_knn = pd.DataFrame.from_dict(clf_knn.cv_results_)\n",
    "results_knn.to_csv(os.path.join(data_path,'knn_alt.csv'))"
   ]
  },
  {
   "cell_type": "code",
   "execution_count": null,
   "metadata": {},
   "outputs": [],
   "source": [
    "gdt = GradientBoostingClassifier()\n",
    "clf_gdt = GridSearchCV(gdt, paran_gdt, cv=3,n_jobs = 4,pre_dispatch = 4,return_train_score=True)\n",
    "clf_gdt.fit(X,Y)"
   ]
  },
  {
   "cell_type": "code",
   "execution_count": null,
   "metadata": {},
   "outputs": [],
   "source": [
    "results_gdt = pd.DataFrame.from_dict(clf_gdt.cv_results_)\n",
    "results_gdt.to_csv(os.path.join(data_path,'gdt_alt.csv'))"
   ]
  },
  {
   "cell_type": "code",
   "execution_count": null,
   "metadata": {},
   "outputs": [],
   "source": [
    "svc = svm.SVC(gamma='auto')\n",
    "clf_svm = GridSearchCV(svc, param_svm, cv=3,n_jobs = 4,pre_dispatch = 4,return_train_score=True)\n",
    "clf_svm.fit(X,Y)\n"
   ]
  },
  {
   "cell_type": "code",
   "execution_count": null,
   "metadata": {},
   "outputs": [],
   "source": [
    "results_svm = pd.DataFrame.from_dict(clf_svm.cv_results_)\n",
    "results_svm.to_csv(os.path.join(data_path,'svm_alt.csv'))"
   ]
  }
 ],
 "metadata": {
  "kernelspec": {
   "display_name": "Python 3",
   "language": "python",
   "name": "python3"
  },
  "language_info": {
   "codemirror_mode": {
    "name": "ipython",
    "version": 3
   },
   "file_extension": ".py",
   "mimetype": "text/x-python",
   "name": "python",
   "nbconvert_exporter": "python",
   "pygments_lexer": "ipython3",
   "version": "3.6.8"
  }
 },
 "nbformat": 4,
 "nbformat_minor": 2
}
