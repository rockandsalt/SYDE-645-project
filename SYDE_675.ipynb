{
 "cells": [
  {
   "cell_type": "code",
   "execution_count": null,
   "metadata": {},
   "outputs": [],
   "source": [
    "import utils.dataloader\n",
    "\n",
    "path = utils.dataloader.sampler(3)\n"
   ]
  },
  {
   "cell_type": "code",
   "execution_count": null,
   "metadata": {},
   "outputs": [],
   "source": [
    "from sklearn.svm import SVC\n",
    "import utils.dataloader as udata\n",
    "import numpy as np\n",
    "from numba import jit,prange\n",
    "from sklearn.model_selection import train_test_split\n",
    "\n",
    "@jit(parallel = True)\n",
    "def get_data():\n",
    "    svc_path = udata.sampler(200)\n",
    "\n",
    "    i,j = np.shape(svc_path)\n",
    "\n",
    "    data = np.zeros((i*j,64**3))\n",
    "    data_label = np.zeros(i*j)\n",
    "\n",
    "    for label_id in prange(i):\n",
    "        for path_id in prange(j):\n",
    "            path = svc_path[label_id][path_id]\n",
    "            vox = udata.load_file(path)\n",
    "            arr = udata.convert_image_to_numpy(vox)\n",
    "            data[path_id+label_id] = arr.reshape(64**3)\n",
    "            data_label[path_id+label_id] = label_id\n",
    "    return (data, data_label)\n",
    "\n",
    "dat,dat_label = get_data()\n",
    "\n",
    "linear_svc = SVC(C = 100,kernel='linear')\n",
    "X_train, X_test, y_train, y_test = train_test_split(dat, dat_label)\n",
    "\n",
    "linear_svc.fit(X_train,y_train)\n",
    "score = linear_svc.score(X_test,y_test)\n",
    "\n",
    "print(score)\n"
   ]
  },
  {
   "cell_type": "code",
   "execution_count": 14,
   "metadata": {},
   "outputs": [
    {
     "name": "stdout",
     "output_type": "stream",
     "text": [
      "0.0\n"
     ]
    }
   ],
   "source": []
  }
 ],
 "metadata": {
  "kernelspec": {
   "display_name": "Python 3",
   "language": "python",
   "name": "python3"
  },
  "language_info": {
   "codemirror_mode": {
    "name": "ipython",
    "version": 3
   },
   "file_extension": ".py",
   "mimetype": "text/x-python",
   "name": "python",
   "nbconvert_exporter": "python",
   "pygments_lexer": "ipython3",
   "version": "3.6.8"
  }
 },
 "nbformat": 4,
 "nbformat_minor": 2
}
