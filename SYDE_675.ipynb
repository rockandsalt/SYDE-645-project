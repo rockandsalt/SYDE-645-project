{
 "cells": [
  {
   "cell_type": "code",
   "execution_count": 1,
   "metadata": {},
   "outputs": [],
   "source": [
    "import numpy as np\n",
    "from sklearn.decomposition import PCA\n",
    "from sklearn.model_selection import RepeatedKFold\n",
    "from sklearn.feature_selection import SelectKBest, chi2\n",
    "from sklearn.discriminant_analysis import LinearDiscriminantAnalysis as LDA\n",
    "from sklearn.tree import DecisionTreeClassifier\n",
    "from sklearn.neighbors import KNeighborsClassifier\n",
    "import os\n",
    "import h5py\n",
    "import pandas as pd\n",
    "from multiprocessing.dummy import Pool as ThreadPool\n",
    "import time\n",
    "\n",
    "def opti_func(train_i,test_i,crt_clf,X,Y):\n",
    "    filt,clf = crt_clf()\n",
    "    \n",
    "    X_train, X_test = X[train_i], X[test_i]\n",
    "    y_train, y_test = Y[train_i], Y[test_i]\n",
    "    \n",
    "    X_train = filt.fit_transform(X_train, y_train)\n",
    "    X_test = filt.transform(X_test)\n",
    "    clf.fit(X_train, y_train)\n",
    "    \n",
    "    return clf.score(X_test,y_test)*100\n",
    "    \n",
    "    \n",
    "data_path = os.path.join('.','tests','test_output','data.hdf5')\n",
    "\n",
    "dat = h5py.File(data_path, 'r')\n",
    "\n",
    "X = np.array(dat.get('data'))\n",
    "Y = np.array(dat.get('data_label'))\n",
    "dat.close()\n",
    "\n",
    "# Number of features to take \n",
    "\n",
    "featurenum_list = [10, 100, 1000, 10000, 100000] \n",
    "Ks = [1, 3, 5, 11]"
   ]
  },
  {
   "cell_type": "code",
   "execution_count": null,
   "metadata": {},
   "outputs": [
    {
     "name": "stdout",
     "output_type": "stream",
     "text": [
      "For SELKB+DT n = 10, mean = 8.4225, var = 0.22920208333333336\n",
      "--- 10726.920655965805 seconds ---\n",
      "For SELKB+DT n = 100, mean = 13.343749999999998, var = 0.30522135416666657\n",
      "--- 21289.44335603714 seconds ---\n",
      "For SELKB+DT n = 1000, mean = 32.75333333333333, var = 1.105891666666666\n",
      "--- 32194.008802890778 seconds ---\n",
      "For SELKB+DT n = 10000, mean = 68.40624999999999, var = 1.666679687500001\n",
      "--- 44851.85349535942 seconds ---\n",
      "For SELKB+DT n = 100000, mean = 73.8375, var = 0.9233506944444432\n",
      "--- 82652.74457716942 seconds ---\n"
     ]
    }
   ],
   "source": [
    "#### Decision Tree ####\n",
    "start_time = time.time()\n",
    "for n in featurenum_list: \n",
    "    rkf = RepeatedKFold(n_splits=10, n_repeats=10)\n",
    "    crt_clsf = lambda a_1 = chi2, a_2 = n :(SelectKBest(a_1, k=a_2),DecisionTreeClassifier())\n",
    "    pool = ThreadPool(100)\n",
    "    acc = [pool.apply(opti_func,args=(i_train,i_test,crt_clsf,X,Y)) for i_train,i_test in rkf.split(X)]\n",
    "    print(\"For SELKB+DT n = {}, mean = {}, var = {}\".format(n,np.mean(acc),np.var(acc)))\n",
    "    print(\"--- %s seconds ---\" % (time.time() - start_time))"
   ]
  },
  {
   "cell_type": "code",
   "execution_count": null,
   "metadata": {},
   "outputs": [
    {
     "name": "stdout",
     "output_type": "stream",
     "text": [
      "For PCA+DT n = 10, mean = 65.13083333333333, var = 0.9046534722222239\n",
      "--- 92040.20052218437 seconds ---\n",
      "For PCA+DT n = 100, mean = 68.57666666666667, var = 0.7059277777777795\n",
      "--- 103489.49698448181 seconds ---\n",
      "For PCA+DT n = 1000, mean = 64.98583333333333, var = 1.1312576388888909\n",
      "--- 141887.24352002144 seconds ---\n"
     ]
    }
   ],
   "source": [
    "for n in featurenum_list: \n",
    "    rkf = RepeatedKFold(n_splits=10, n_repeats=1)\n",
    "    crt_clsf = lambda a_1 = n :(PCA(n_components=a_1),DecisionTreeClassifier())\n",
    "    pool = ThreadPool(100)\n",
    "    acc = [pool.apply(opti_func,args=(i_train,i_test,crt_clsf,X,Y)) for i_train,i_test in rkf.split(X)]\n",
    "    print(\"For PCA+DT n = {}, mean = {}, var = {}\".format(n,np.mean(acc),np.var(acc)))\n",
    "    print(\"--- %s seconds ---\" % (time.time() - start_time))"
   ]
  },
  {
   "cell_type": "code",
   "execution_count": null,
   "metadata": {},
   "outputs": [],
   "source": [
    "#### KNN ####\n",
    "for n in featurenum_list:\n",
    "    for k in Ks:\n",
    "        rkf = RepeatedKFold(n_splits=10, n_repeats=10)\n",
    "        crt_clsf = lambda a_1 = chi2, a_2 = n, a_3 = k:(SelectKBest(a_1, k=a_2),KNeighborsClassifier(n_neighbors=a_3))\n",
    "        pool = ThreadPool(100)\n",
    "        acc = [pool.apply(opti_func,args=(i_train,i_test,crt_clsf,X,Y)) for i_train,i_test in rkf.split(X)]\n",
    "        print(\"For SELKB+knn n = {}, k = {}, mean = {}, var = {}\".format(n,k,np.mean(acc),np.var(acc)))\n",
    "        print(\"--- %s seconds ---\" % (time.time() - start_time))"
   ]
  },
  {
   "cell_type": "code",
   "execution_count": null,
   "metadata": {},
   "outputs": [],
   "source": [
    "for n in featurenum_list:\n",
    "    for k in Ks:\n",
    "        rkf = RepeatedKFold(n_splits=10, n_repeats=10)\n",
    "        crt_clsf = lambda a_1 = n, a_3 = k :(PCA(n_components=a_1),KNeighborsClassifier(n_neighbors=a_3))\n",
    "        pool = ThreadPool(100)\n",
    "        acc = [pool.apply(opti_func,args=(i_train,i_test,crt_clsf,X,Y)) for i_train,i_test in rkf.split(X)]\n",
    "        print(\"For PCA+knn n = {}, k = {}, mean = {}, var = {}\".format(n,k,np.mean(acc),np.var(acc)))\n",
    "        print(\"--- %s seconds ---\" % (time.time() - start_time))"
   ]
  }
 ],
 "metadata": {
  "kernelspec": {
   "display_name": "Python 3",
   "language": "python",
   "name": "python3"
  },
  "language_info": {
   "codemirror_mode": {
    "name": "ipython",
    "version": 3
   },
   "file_extension": ".py",
   "mimetype": "text/x-python",
   "name": "python",
   "nbconvert_exporter": "python",
   "pygments_lexer": "ipython3",
   "version": "3.6.8"
  }
 },
 "nbformat": 4,
 "nbformat_minor": 2
}
