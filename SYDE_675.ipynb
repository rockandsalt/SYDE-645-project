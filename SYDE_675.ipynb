{
 "cells": [
  {
   "cell_type": "code",
   "execution_count": null,
   "metadata": {},
   "outputs": [],
   "source": [
    "import utils.dataloader\n",
    "import pandas as pd\n",
    "import numpy as np\n",
    "\n",
    "Cs = np.logspace(-1,2,5)\n",
    "pca_red = np.logspace(1.38,np.log10(64**3)/np.log10(10),20).astype(int)\n",
    "df = pd.DataFrame(index = pca_red,columns=Cs)\n",
    "\n",
    "df.loc[23,0.1] = 3\n",
    "\n",
    "print(df)\n"
   ]
  },
  {
   "cell_type": "code",
   "execution_count": null,
   "metadata": {},
   "outputs": [],
   "source": [
    "from sklearn.svm import SVC\n",
    "import numpy as np\n",
    "from sklearn import decomposition\n",
    "from sklearn.model_selection import RepeatedKFold\n",
    "from sklearn.model_selection import train_test_split\n",
    "import os\n",
    "import h5py\n",
    "import pandas as pd\n",
    "import multiprocessing as mp\n",
    "\n",
    "data_path = os.path.join('.','tests','test_output','data.hdf5')\n",
    "\n",
    "dat = h5py.File(data_path, 'r')\n",
    "\n",
    "X = np.array(dat.get('data'))\n",
    "Y = np.array(dat.get('data_label'))\n",
    "\n",
    "Cs = np.logspace(-1,2,5)\n",
    "pca_red = np.logspace(1.38,np.log10(64**3)/np.log10(10),10).astype(int)\n",
    "\n",
    "mean_lin_df = pd.DataFrame(index = pca_red,columns=Cs)\n",
    "var_lin_df = pd.DataFrame(index = pca_red,columns=Cs)\n",
    "\n",
    "\n",
    "#for c in Cs:\n",
    "#    for comp in pca_red:\n",
    "X_train, X_test, y_train, y_test = train_test_split(X, Y, test_size=0.2)\n",
    "\n",
    "linear_svc = SVC(C = 10, kernel = 'linear',gamma = 'auto')\n",
    "linear_svc.fit(X_train,y_train)\n",
    "\n",
    "score_lin = linear_svc.score(X_test,y_test)\n",
    "\n",
    "print(score_lin)\n",
    "        \n",
    "dat.close()\n",
    "\n"
   ]
  },
  {
   "cell_type": "code",
   "execution_count": null,
   "metadata": {},
   "outputs": [],
   "source": [
    "import multiprocessing as mp\n",
    "\n",
    "print(mp.cpu_count())"
   ]
  }
 ],
 "metadata": {
  "kernelspec": {
   "display_name": "Python 3",
   "language": "python",
   "name": "python3"
  },
  "language_info": {
   "codemirror_mode": {
    "name": "ipython",
    "version": 3
   },
   "file_extension": ".py",
   "mimetype": "text/x-python",
   "name": "python",
   "nbconvert_exporter": "python",
   "pygments_lexer": "ipython3",
   "version": "3.6.8"
  }
 },
 "nbformat": 4,
 "nbformat_minor": 2
}
