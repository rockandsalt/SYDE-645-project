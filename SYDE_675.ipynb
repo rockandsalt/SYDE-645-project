{
 "cells": [
  {
   "cell_type": "code",
   "execution_count": 9,
   "metadata": {},
   "outputs": [
    {
     "name": "stdout",
     "output_type": "stream",
     "text": [
      "[[1. 1. 1. ... 1. 1. 1.]\n",
      " [1. 1. 1. ... 1. 1. 1.]\n",
      " [1. 1. 1. ... 1. 1. 1.]\n",
      " ...\n",
      " [1. 1. 1. ... 1. 1. 1.]\n",
      " [1. 1. 1. ... 1. 1. 1.]\n",
      " [1. 1. 1. ... 1. 1. 1.]]\n"
     ]
    }
   ],
   "source": [
    "import os\n",
    "import h5py\n",
    "import numpy as np\n",
    "\n",
    "data_path = os.path.join('.','tests','test_output','data.hdf5')\n",
    "\n",
    "dat = h5py.File(data_path, 'r')\n",
    "\n",
    "m = dat.get('data').shape[0]\n",
    "\n",
    "m_c = np.sort(np.random.choice(range(0,m), 3000, replace = False))\n",
    "\n",
    "X = np.array(dat.get('data')[m_c,:])\n",
    "\n",
    "dat.close()\n",
    "\n"
   ]
  },
  {
   "cell_type": "code",
   "execution_count": null,
   "metadata": {},
   "outputs": [],
   "source": [
    "from sklearn.svm import SVC\n",
    "import numpy as np\n",
    "from sklearn import decomposition\n",
    "from sklearn.model_selection import RepeatedKFold\n",
    "from sklearn.model_selection import train_test_split\n",
    "import os\n",
    "import h5py\n",
    "import pandas as pd\n",
    "import multiprocessing as mp\n",
    "\n",
    "data_path = os.path.join('.','tests','test_output','data.hdf5')\n",
    "\n",
    "dat = h5py.File(data_path, 'r')\n",
    "\n",
    "X = np.array(dat.get('data'))\n",
    "Y = np.array(dat.get('data_label'))\n",
    "\n",
    "Cs = np.logspace(-1,2,5)\n",
    "pca_red = np.logspace(1.38,np.log10(64**3)/np.log10(10),10).astype(int)\n",
    "\n",
    "mean_lin_df = pd.DataFrame(index = pca_red,columns=Cs)\n",
    "var_lin_df = pd.DataFrame(index = pca_red,columns=Cs)\n",
    "\n",
    "\n",
    "#for c in Cs:\n",
    "#    for comp in pca_red:\n",
    "X_train, X_test, y_train, y_test = train_test_split(X, Y, test_size=0.2)\n",
    "\n",
    "linear_svc = SVC(C = 10, kernel = 'linear',gamma = 'auto')\n",
    "linear_svc.fit(X_train,y_train)\n",
    "\n",
    "score_lin = linear_svc.score(X_test,y_test)\n",
    "\n",
    "print(score_lin)\n",
    "        \n",
    "dat.close()\n",
    "\n"
   ]
  },
  {
   "cell_type": "code",
   "execution_count": 17,
   "metadata": {},
   "outputs": [],
   "source": [
    "import os\n",
    "import h5py\n",
    "import numpy as np\n",
    "\n",
    "data_path = os.path.join('.','tests','test_output','data.hdf5')\n",
    "\n",
    "dat = h5py.File(data_path, 'r')\n",
    "\n",
    "m = dat.get('data').shape[0]\n",
    "\n",
    "m_c = np.sort(np.random.choice(range(0,m), 3000, replace = False)).tolist()\n",
    "\n",
    "X = np.array(dat.get('data')[m_c,:])\n",
    "Y = np.array(dat.get('data_label')[m_c])\n",
    "\n",
    "dat.close()"
   ]
  },
  {
   "cell_type": "code",
   "execution_count": 19,
   "metadata": {},
   "outputs": [
    {
     "name": "stdout",
     "output_type": "stream",
     "text": [
      "[0.5133333333333333, 0.52, 0.5, 0.4533333333333333, 0.48333333333333334, 0.5433333333333333, 0.5733333333333334, 0.58, 0.45666666666666667, 0.45]\n"
     ]
    }
   ],
   "source": [
    "from multiprocessing.dummy import Pool\n",
    "from sklearn.model_selection import RepeatedKFold\n",
    "from sklearn.decomposition import PCA\n",
    "from sklearn.svm import SVC\n",
    "\n",
    "def opti_func(train_i,test_i,X,Y,c,n):\n",
    "    X_train = X[train_i]\n",
    "    X_test = X[test_i]\n",
    "    y_train = Y[train_i]\n",
    "    y_test = Y[test_i]\n",
    "    \n",
    "    pca = PCA(n_components=n)\n",
    "    X_train = pca.fit_transform(X_train)\n",
    "    X_test = pca.transform(X_test)\n",
    "    \n",
    "    linear_svc = SVC(C = c, kernel = 'linear',gamma = 'auto')\n",
    "    linear_svc.fit(X_train,y_train)\n",
    "    \n",
    "    return linear_svc.score(X_test,y_test)\n",
    "    \n",
    "rkf = RepeatedKFold(n_splits=10, n_repeats=1)\n",
    "split = rkf.split(X)\n",
    "\n",
    "t_pool = Pool(10)\n",
    "\n",
    "results = [t_pool.apply(opti_func, args = (train,test,X,Y,100,1000)) for train, test in split]\n",
    "\n",
    "print(results)\n"
   ]
  }
 ],
 "metadata": {
  "kernelspec": {
   "display_name": "Python 3",
   "language": "python",
   "name": "python3"
  },
  "language_info": {
   "codemirror_mode": {
    "name": "ipython",
    "version": 3
   },
   "file_extension": ".py",
   "mimetype": "text/x-python",
   "name": "python",
   "nbconvert_exporter": "python",
   "pygments_lexer": "ipython3",
   "version": "3.6.8"
  }
 },
 "nbformat": 4,
 "nbformat_minor": 2
}
