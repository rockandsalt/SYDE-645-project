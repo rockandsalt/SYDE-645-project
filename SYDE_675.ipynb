{
 "cells": [
  {
   "cell_type": "code",
   "execution_count": 2,
   "metadata": {},
   "outputs": [
    {
     "name": "stdout",
     "output_type": "stream",
     "text": [
      "[['.\\\\dataset\\\\stl\\\\0_Oring\\\\0_642.STL', '.\\\\dataset\\\\stl\\\\0_Oring\\\\0_184.STL', '.\\\\dataset\\\\stl\\\\0_Oring\\\\0_723.STL'], ['.\\\\dataset\\\\stl\\\\10_rectangular_pocket\\\\10_93.STL', '.\\\\dataset\\\\stl\\\\10_rectangular_pocket\\\\10_977.STL', '.\\\\dataset\\\\stl\\\\10_rectangular_pocket\\\\10_317.STL'], ['.\\\\dataset\\\\stl\\\\11_circular_end_pocket\\\\11_574.STL', '.\\\\dataset\\\\stl\\\\11_circular_end_pocket\\\\11_811.STL', '.\\\\dataset\\\\stl\\\\11_circular_end_pocket\\\\11_101.STL'], ['.\\\\dataset\\\\stl\\\\12_triangular_blind_step\\\\17_230.STL', '.\\\\dataset\\\\stl\\\\12_triangular_blind_step\\\\17_257.STL', '.\\\\dataset\\\\stl\\\\12_triangular_blind_step\\\\12_918.STL'], ['.\\\\dataset\\\\stl\\\\13_circular_blind_step\\\\13_309.STL', '.\\\\dataset\\\\stl\\\\13_circular_blind_step\\\\13_862.STL', '.\\\\dataset\\\\stl\\\\13_circular_blind_step\\\\13_197.STL'], ['.\\\\dataset\\\\stl\\\\14_rectangular_blind_step\\\\14_746.STL', '.\\\\dataset\\\\stl\\\\14_rectangular_blind_step\\\\14_994.STL', '.\\\\dataset\\\\stl\\\\14_rectangular_blind_step\\\\14_404.STL'], ['.\\\\dataset\\\\stl\\\\15_rectangular_through_step\\\\15_450.STL', '.\\\\dataset\\\\stl\\\\15_rectangular_through_step\\\\15_80.STL', '.\\\\dataset\\\\stl\\\\15_rectangular_through_step\\\\15_753.STL'], ['.\\\\dataset\\\\stl\\\\16_2sides_through_step\\\\16_182.STL', '.\\\\dataset\\\\stl\\\\16_2sides_through_step\\\\16_456.STL', '.\\\\dataset\\\\stl\\\\16_2sides_through_step\\\\16_394.STL'], ['.\\\\dataset\\\\stl\\\\17_slanted_through_step\\\\17_424.STL', '.\\\\dataset\\\\stl\\\\17_slanted_through_step\\\\17_326.STL', '.\\\\dataset\\\\stl\\\\17_slanted_through_step\\\\17_999.STL'], ['.\\\\dataset\\\\stl\\\\18_chamfer\\\\18_87.STL', '.\\\\dataset\\\\stl\\\\18_chamfer\\\\18_47.STL', '.\\\\dataset\\\\stl\\\\18_chamfer\\\\18_63.STL'], ['.\\\\dataset\\\\stl\\\\19_round\\\\19_601.STL', '.\\\\dataset\\\\stl\\\\19_round\\\\19_993.STL', '.\\\\dataset\\\\stl\\\\19_round\\\\19_551.STL'], ['.\\\\dataset\\\\stl\\\\1_through_hole\\\\1_225.STL', '.\\\\dataset\\\\stl\\\\1_through_hole\\\\1_836.STL', '.\\\\dataset\\\\stl\\\\1_through_hole\\\\1_427.STL'], ['.\\\\dataset\\\\stl\\\\20_v_circular_end_blind_slot\\\\20_422.STL', '.\\\\dataset\\\\stl\\\\20_v_circular_end_blind_slot\\\\20_479.STL', '.\\\\dataset\\\\stl\\\\20_v_circular_end_blind_slot\\\\20_279.STL'], ['.\\\\dataset\\\\stl\\\\21_h_circular_end_blind_slot\\\\21_310.STL', '.\\\\dataset\\\\stl\\\\21_h_circular_end_blind_slot\\\\21_974.STL', '.\\\\dataset\\\\stl\\\\21_h_circular_end_blind_slot\\\\21_243.STL'], ['.\\\\dataset\\\\stl\\\\22_6sides_passage\\\\22_116.STL', '.\\\\dataset\\\\stl\\\\22_6sides_passage\\\\22_216.STL', '.\\\\dataset\\\\stl\\\\22_6sides_passage\\\\22_844.STL'], ['.\\\\dataset\\\\stl\\\\23_6sides_pocket\\\\23_782.STL', '.\\\\dataset\\\\stl\\\\23_6sides_pocket\\\\23_672.STL', '.\\\\dataset\\\\stl\\\\23_6sides_pocket\\\\23_15.STL'], ['.\\\\dataset\\\\stl\\\\2_blind_hole\\\\2_831.STL', '.\\\\dataset\\\\stl\\\\2_blind_hole\\\\2_571.STL', '.\\\\dataset\\\\stl\\\\2_blind_hole\\\\2_806.STL'], ['.\\\\dataset\\\\stl\\\\3_triangular_passage\\\\3_480.STL', '.\\\\dataset\\\\stl\\\\3_triangular_passage\\\\3_121.STL', '.\\\\dataset\\\\stl\\\\3_triangular_passage\\\\3_998.STL'], ['.\\\\dataset\\\\stl\\\\4_rectangular_passage\\\\4_305.STL', '.\\\\dataset\\\\stl\\\\4_rectangular_passage\\\\4_29.STL', '.\\\\dataset\\\\stl\\\\4_rectangular_passage\\\\4_817.STL'], ['.\\\\dataset\\\\stl\\\\5_circular_through_slot\\\\5_722.STL', '.\\\\dataset\\\\stl\\\\5_circular_through_slot\\\\5_657.STL', '.\\\\dataset\\\\stl\\\\5_circular_through_slot\\\\5_804.STL'], ['.\\\\dataset\\\\stl\\\\6_triangular_through_slot\\\\6_55.STL', '.\\\\dataset\\\\stl\\\\6_triangular_through_slot\\\\6_595.STL', '.\\\\dataset\\\\stl\\\\6_triangular_through_slot\\\\6_667.STL'], ['.\\\\dataset\\\\stl\\\\7_rectangular_through_slot\\\\7_516.STL', '.\\\\dataset\\\\stl\\\\7_rectangular_through_slot\\\\7_869.STL', '.\\\\dataset\\\\stl\\\\7_rectangular_through_slot\\\\7_692.STL'], ['.\\\\dataset\\\\stl\\\\8_rectangular_blind_slot\\\\8_556.STL', '.\\\\dataset\\\\stl\\\\8_rectangular_blind_slot\\\\8_486.STL', '.\\\\dataset\\\\stl\\\\8_rectangular_blind_slot\\\\8_326.STL'], ['.\\\\dataset\\\\stl\\\\9_triangular_pocket\\\\9_942.STL', '.\\\\dataset\\\\stl\\\\9_triangular_pocket\\\\9_200.STL', '.\\\\dataset\\\\stl\\\\9_triangular_pocket\\\\9_959.STL']]\n"
     ]
    }
   ],
   "source": [
    "import utils.dataloader\n",
    "\n",
    "path = utils.dataloader.sampler(3)\n",
    "\n",
    "print(path)"
   ]
  },
  {
   "cell_type": "code",
   "execution_count": null,
   "metadata": {},
   "outputs": [],
   "source": []
  }
 ],
 "metadata": {
  "kernelspec": {
   "display_name": "Python 3",
   "language": "python",
   "name": "python3"
  },
  "language_info": {
   "codemirror_mode": {
    "name": "ipython",
    "version": 3
   },
   "file_extension": ".py",
   "mimetype": "text/x-python",
   "name": "python",
   "nbconvert_exporter": "python",
   "pygments_lexer": "ipython3",
   "version": "3.6.8"
  }
 },
 "nbformat": 4,
 "nbformat_minor": 2
}
