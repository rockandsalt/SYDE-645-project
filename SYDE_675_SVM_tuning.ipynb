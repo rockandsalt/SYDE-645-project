{
 "cells": [
  {
   "cell_type": "code",
   "execution_count": 1,
   "metadata": {},
   "outputs": [],
   "source": [
    "import numpy as np\n",
    "import os\n",
    "import h5py\n",
    "import pandas as pd\n",
    "import time\n",
    "import utils.dataloader as udl\n",
    "from sklearn import svm\n",
    "    \n",
    "data_path = os.path.join('.','tests','test_output','data.hdf5')\n",
    "\n",
    "X,Y = udl.load_data(data_path)\n",
    "\n",
    "param = [\n",
    "    {'C': [1, 10, 100, 1000], 'kernel': ['linear']}\n",
    " ]\n",
    "\n",
    "svc = svm.SVC(gamma=\"scale\")\n"
   ]
  },
  {
   "cell_type": "code",
   "execution_count": null,
   "metadata": {},
   "outputs": [],
   "source": [
    "X_train, X_test, y_train, y_test = train_test_split(X, Y, test_size=0.33)\n",
    "\n",
    "clf = GridSearchCV(svc, param, cv=5,n_jobs = -1)\n",
    "clf.fit(X_train,y_train)"
   ]
  }
 ],
 "metadata": {
  "kernelspec": {
   "display_name": "Python 3",
   "language": "python",
   "name": "python3"
  },
  "language_info": {
   "codemirror_mode": {
    "name": "ipython",
    "version": 3
   },
   "file_extension": ".py",
   "mimetype": "text/x-python",
   "name": "python",
   "nbconvert_exporter": "python",
   "pygments_lexer": "ipython3",
   "version": "3.6.8"
  }
 },
 "nbformat": 4,
 "nbformat_minor": 2
}
