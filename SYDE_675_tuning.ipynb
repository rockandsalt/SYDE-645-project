{
 "cells": [
  {
   "cell_type": "code",
   "execution_count": 1,
   "metadata": {},
   "outputs": [],
   "source": [
    "import numpy as np\n",
    "import os\n",
    "import pandas as pd\n",
    "from sklearn import svm\n",
    "from sklearn.model_selection import GridSearchCV\n",
    "from sklearn.model_selection import train_test_split\n",
    "from sklearn.neighbors import KNeighborsClassifier\n",
    "from sklearn.ensemble import AdaBoostClassifier\n",
    "    \n",
    "data_path = os.path.join('.','tests','test_output')\n",
    "\n",
    "X = np.load(os.path.join(data_path,'x_split_0.npy'),mmap_mode='r')\n",
    "Y = np.load(os.path.join(data_path,'y_split_0.npy'),mmap_mode='r')\n",
    "\n",
    "param_svm = [\n",
    "    {'C': [1, 10, 100, 1000], 'kernel': ['linear']}\n",
    " ]\n",
    "\n",
    "param_knn = [\n",
    "    {'n_neighbors': [1, 3, 5, 11],'n_jobs':[2]}\n",
    " ]\n",
    "\n",
    "param_ada = {\n",
    " 'n_estimators': [50, 100],\n",
    " 'learning_rate' : [0.01,0.1,0.3,1]\n",
    "}\n"
   ]
  },
  {
   "cell_type": "code",
   "execution_count": 2,
   "metadata": {},
   "outputs": [],
   "source": [
    "X_train, X_test, y_train, y_test = train_test_split(X, Y, test_size=0.33, stratify = Y)\n"
   ]
  },
  {
   "cell_type": "code",
   "execution_count": 3,
   "metadata": {},
   "outputs": [
    {
     "data": {
      "text/plain": [
       "GridSearchCV(cv=3, error_score='raise-deprecating',\n",
       "       estimator=KNeighborsClassifier(algorithm='auto', leaf_size=30, metric='minkowski',\n",
       "           metric_params=None, n_jobs=None, n_neighbors=5, p=2,\n",
       "           weights='uniform'),\n",
       "       fit_params=None, iid='warn', n_jobs=10,\n",
       "       param_grid=[{'n_neighbors': [1, 3, 5, 11], 'n_jobs': [2]}],\n",
       "       pre_dispatch=15, refit=True, return_train_score='warn',\n",
       "       scoring=None, verbose=0)"
      ]
     },
     "execution_count": 3,
     "metadata": {},
     "output_type": "execute_result"
    }
   ],
   "source": [
    "knn = KNeighborsClassifier()\n",
    "clf_knn = GridSearchCV(knn, param_knn, cv=3, n_jobs = 10,pre_dispatch = 15)\n",
    "clf_knn.fit(X_train,y_train)"
   ]
  },
  {
   "cell_type": "code",
   "execution_count": 4,
   "metadata": {},
   "outputs": [
    {
     "name": "stdout",
     "output_type": "stream",
     "text": [
      "{'mean_fit_time': array([30.43816606, 32.02195096, 40.83643794, 35.76144552]), 'std_fit_time': array([0.93374964, 1.41825354, 7.1846899 , 1.2191548 ]), 'mean_score_time': array([224.00110054, 254.88515838, 260.44612916, 240.78767816]), 'std_score_time': array([4.82777487, 5.19525943, 2.43101207, 6.88576316]), 'param_n_jobs': masked_array(data=[2, 2, 2, 2],\n",
      "             mask=[False, False, False, False],\n",
      "       fill_value='?',\n",
      "            dtype=object), 'param_n_neighbors': masked_array(data=[1, 3, 5, 11],\n",
      "             mask=[False, False, False, False],\n",
      "       fill_value='?',\n",
      "            dtype=object), 'params': [{'n_jobs': 2, 'n_neighbors': 1}, {'n_jobs': 2, 'n_neighbors': 3}, {'n_jobs': 2, 'n_neighbors': 5}, {'n_jobs': 2, 'n_neighbors': 11}], 'split0_test_score': array([0.47172619, 0.40922619, 0.3735119 , 0.34970238]), 'split1_test_score': array([0.45982143, 0.38392857, 0.3735119 , 0.40625   ]), 'split2_test_score': array([0.45045045, 0.36486486, 0.32582583, 0.35135135]), 'mean_test_score': array([0.46069652, 0.38606965, 0.35771144, 0.36915423]), 'std_test_score': array([0.00870134, 0.01816024, 0.02244566, 0.02629802]), 'rank_test_score': array([1, 2, 4, 3]), 'split0_train_score': array([1.        , 0.55007474, 0.54409567, 0.47085202]), 'split1_train_score': array([1.        , 0.52167414, 0.46188341, 0.47458894]), 'split2_train_score': array([1.        , 0.51339286, 0.4203869 , 0.42410714]), 'mean_train_score': array([1.        , 0.52838058, 0.47545533, 0.45651603]), 'std_train_score': array([0.        , 0.01570822, 0.0514076 , 0.02296727])}\n"
     ]
    }
   ],
   "source": [
    "print(clf_knn.cv_results_)"
   ]
  },
  {
   "cell_type": "code",
   "execution_count": 5,
   "metadata": {},
   "outputs": [
    {
     "name": "stderr",
     "output_type": "stream",
     "text": [
      "C:\\Users\\Msam\\.conda\\envs\\machine_learning\\lib\\site-packages\\sklearn\\utils\\deprecation.py:125: FutureWarning: You are accessing a training score ('split0_train_score'), which will not be available by default any more in 0.21. If you need training scores, please set return_train_score=True\n",
      "  warnings.warn(*warn_args, **warn_kwargs)\n",
      "C:\\Users\\Msam\\.conda\\envs\\machine_learning\\lib\\site-packages\\sklearn\\utils\\deprecation.py:125: FutureWarning: You are accessing a training score ('split1_train_score'), which will not be available by default any more in 0.21. If you need training scores, please set return_train_score=True\n",
      "  warnings.warn(*warn_args, **warn_kwargs)\n",
      "C:\\Users\\Msam\\.conda\\envs\\machine_learning\\lib\\site-packages\\sklearn\\utils\\deprecation.py:125: FutureWarning: You are accessing a training score ('split2_train_score'), which will not be available by default any more in 0.21. If you need training scores, please set return_train_score=True\n",
      "  warnings.warn(*warn_args, **warn_kwargs)\n",
      "C:\\Users\\Msam\\.conda\\envs\\machine_learning\\lib\\site-packages\\sklearn\\utils\\deprecation.py:125: FutureWarning: You are accessing a training score ('mean_train_score'), which will not be available by default any more in 0.21. If you need training scores, please set return_train_score=True\n",
      "  warnings.warn(*warn_args, **warn_kwargs)\n",
      "C:\\Users\\Msam\\.conda\\envs\\machine_learning\\lib\\site-packages\\sklearn\\utils\\deprecation.py:125: FutureWarning: You are accessing a training score ('std_train_score'), which will not be available by default any more in 0.21. If you need training scores, please set return_train_score=True\n",
      "  warnings.warn(*warn_args, **warn_kwargs)\n"
     ]
    }
   ],
   "source": [
    "results_knn = pd.DataFrame.from_dict(clf_knn.cv_results_)\n",
    "results_knn.to_csv(os.path.join(data_path,'knn.csv'))"
   ]
  },
  {
   "cell_type": "code",
   "execution_count": 6,
   "metadata": {},
   "outputs": [
    {
     "data": {
      "text/plain": [
       "GridSearchCV(cv=3, error_score='raise-deprecating',\n",
       "       estimator=AdaBoostClassifier(algorithm='SAMME.R', base_estimator=None,\n",
       "          learning_rate=1.0, n_estimators=50, random_state=None),\n",
       "       fit_params=None, iid='warn', n_jobs=8,\n",
       "       param_grid={'n_estimators': [50, 100], 'learning_rate': [0.01, 0.1, 0.3, 1]},\n",
       "       pre_dispatch=10, refit=True, return_train_score='warn',\n",
       "       scoring=None, verbose=0)"
      ]
     },
     "execution_count": 6,
     "metadata": {},
     "output_type": "execute_result"
    }
   ],
   "source": [
    "ada = AdaBoostClassifier()\n",
    "clf_ada = GridSearchCV(ada, param_ada, cv=3,n_jobs = 8,pre_dispatch = 10)\n",
    "clf_ada.fit(X_train,y_train)"
   ]
  },
  {
   "cell_type": "code",
   "execution_count": 7,
   "metadata": {},
   "outputs": [
    {
     "name": "stderr",
     "output_type": "stream",
     "text": [
      "C:\\Users\\Msam\\.conda\\envs\\machine_learning\\lib\\site-packages\\sklearn\\utils\\deprecation.py:125: FutureWarning: You are accessing a training score ('split0_train_score'), which will not be available by default any more in 0.21. If you need training scores, please set return_train_score=True\n",
      "  warnings.warn(*warn_args, **warn_kwargs)\n",
      "C:\\Users\\Msam\\.conda\\envs\\machine_learning\\lib\\site-packages\\sklearn\\utils\\deprecation.py:125: FutureWarning: You are accessing a training score ('split1_train_score'), which will not be available by default any more in 0.21. If you need training scores, please set return_train_score=True\n",
      "  warnings.warn(*warn_args, **warn_kwargs)\n",
      "C:\\Users\\Msam\\.conda\\envs\\machine_learning\\lib\\site-packages\\sklearn\\utils\\deprecation.py:125: FutureWarning: You are accessing a training score ('split2_train_score'), which will not be available by default any more in 0.21. If you need training scores, please set return_train_score=True\n",
      "  warnings.warn(*warn_args, **warn_kwargs)\n",
      "C:\\Users\\Msam\\.conda\\envs\\machine_learning\\lib\\site-packages\\sklearn\\utils\\deprecation.py:125: FutureWarning: You are accessing a training score ('mean_train_score'), which will not be available by default any more in 0.21. If you need training scores, please set return_train_score=True\n",
      "  warnings.warn(*warn_args, **warn_kwargs)\n",
      "C:\\Users\\Msam\\.conda\\envs\\machine_learning\\lib\\site-packages\\sklearn\\utils\\deprecation.py:125: FutureWarning: You are accessing a training score ('std_train_score'), which will not be available by default any more in 0.21. If you need training scores, please set return_train_score=True\n",
      "  warnings.warn(*warn_args, **warn_kwargs)\n"
     ]
    }
   ],
   "source": [
    "results_ada = pd.DataFrame.from_dict(clf_ada.cv_results_)\n",
    "results_ada.to_csv(os.path.join(data_path,'ada.csv'))"
   ]
  },
  {
   "cell_type": "code",
   "execution_count": 8,
   "metadata": {},
   "outputs": [
    {
     "data": {
      "text/plain": [
       "GridSearchCV(cv=3, error_score='raise-deprecating',\n",
       "       estimator=SVC(C=1.0, cache_size=200, class_weight=None, coef0=0.0,\n",
       "  decision_function_shape='ovr', degree=3, gamma='auto', kernel='rbf',\n",
       "  max_iter=-1, probability=False, random_state=None, shrinking=True,\n",
       "  tol=0.001, verbose=False),\n",
       "       fit_params=None, iid='warn', n_jobs=10,\n",
       "       param_grid=[{'C': [1, 10, 100, 1000], 'kernel': ['linear']}],\n",
       "       pre_dispatch=15, refit=True, return_train_score='warn',\n",
       "       scoring=None, verbose=0)"
      ]
     },
     "execution_count": 8,
     "metadata": {},
     "output_type": "execute_result"
    }
   ],
   "source": [
    "from sklearn import svm\n",
    "\n",
    "svc = svm.SVC(gamma='auto')\n",
    "clf_svm = GridSearchCV(svc, param_svm, cv=3,n_jobs = 10,pre_dispatch = 15)\n",
    "clf_svm.fit(X_train,y_train)\n"
   ]
  },
  {
   "cell_type": "code",
   "execution_count": 9,
   "metadata": {},
   "outputs": [
    {
     "name": "stderr",
     "output_type": "stream",
     "text": [
      "C:\\Users\\Msam\\.conda\\envs\\machine_learning\\lib\\site-packages\\sklearn\\utils\\deprecation.py:125: FutureWarning: You are accessing a training score ('split0_train_score'), which will not be available by default any more in 0.21. If you need training scores, please set return_train_score=True\n",
      "  warnings.warn(*warn_args, **warn_kwargs)\n",
      "C:\\Users\\Msam\\.conda\\envs\\machine_learning\\lib\\site-packages\\sklearn\\utils\\deprecation.py:125: FutureWarning: You are accessing a training score ('split1_train_score'), which will not be available by default any more in 0.21. If you need training scores, please set return_train_score=True\n",
      "  warnings.warn(*warn_args, **warn_kwargs)\n",
      "C:\\Users\\Msam\\.conda\\envs\\machine_learning\\lib\\site-packages\\sklearn\\utils\\deprecation.py:125: FutureWarning: You are accessing a training score ('split2_train_score'), which will not be available by default any more in 0.21. If you need training scores, please set return_train_score=True\n",
      "  warnings.warn(*warn_args, **warn_kwargs)\n",
      "C:\\Users\\Msam\\.conda\\envs\\machine_learning\\lib\\site-packages\\sklearn\\utils\\deprecation.py:125: FutureWarning: You are accessing a training score ('mean_train_score'), which will not be available by default any more in 0.21. If you need training scores, please set return_train_score=True\n",
      "  warnings.warn(*warn_args, **warn_kwargs)\n",
      "C:\\Users\\Msam\\.conda\\envs\\machine_learning\\lib\\site-packages\\sklearn\\utils\\deprecation.py:125: FutureWarning: You are accessing a training score ('std_train_score'), which will not be available by default any more in 0.21. If you need training scores, please set return_train_score=True\n",
      "  warnings.warn(*warn_args, **warn_kwargs)\n"
     ]
    }
   ],
   "source": [
    "results_svm = pd.DataFrame.from_dict(clf_svm.cv_results_)\n",
    "results_svm .to_csv(os.path.join(data_path,'svm.csv'))"
   ]
  }
 ],
 "metadata": {
  "kernelspec": {
   "display_name": "Python 3",
   "language": "python",
   "name": "python3"
  },
  "language_info": {
   "codemirror_mode": {
    "name": "ipython",
    "version": 3
   },
   "file_extension": ".py",
   "mimetype": "text/x-python",
   "name": "python",
   "nbconvert_exporter": "python",
   "pygments_lexer": "ipython3",
   "version": "3.6.8"
  }
 },
 "nbformat": 4,
 "nbformat_minor": 2
}
