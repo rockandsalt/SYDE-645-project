{
 "cells": [
  {
   "cell_type": "code",
   "execution_count": 1,
   "metadata": {},
   "outputs": [],
   "source": [
    "import numpy as np\n",
    "import os\n",
    "import pandas as pd\n",
    "from sklearn import svm\n",
    "from sklearn.model_selection import GridSearchCV\n",
    "from sklearn.model_selection import train_test_split\n",
    "from sklearn.neighbors import KNeighborsClassifier\n",
    "from sklearn.ensemble import AdaBoostClassifier\n",
    "    \n",
    "data_path = os.path.join('.','tests','test_output')\n",
    "\n",
    "X = np.load(os.path.join(data_path,'x_split_0.npy'))\n",
    "Y = np.load(os.path.join(data_path,'y_split_0.npy'))\n",
    "\n",
    "param_svm = [\n",
    "    {'C': [1, 10, 100, 1000], 'kernel': ['linear']}\n",
    " ]\n",
    "\n",
    "param_knn = [\n",
    "    {'n_neighbors': [1, 3, 5, 11],'n_jobs':[2]}\n",
    " ]\n",
    "\n",
    "param_ada = {\n",
    " 'n_estimators': [50, 100],\n",
    " 'learning_rate' : [0.01,0.1,0.3,1]\n",
    "}\n"
   ]
  },
  {
   "cell_type": "code",
   "execution_count": null,
   "metadata": {},
   "outputs": [],
   "source": [
    "\n",
    "X_train, X_test, y_train, y_test = train_test_split(X, Y, test_size=0.33, stratify = Y)\n"
   ]
  },
  {
   "cell_type": "code",
   "execution_count": null,
   "metadata": {},
   "outputs": [],
   "source": [
    "svc = svm.SVC(gamma=\"scale\")\n",
    "clf_svm = GridSearchCV(svc, param_svm, cv=5,n_jobs = 4)\n",
    "clf_svm.fit(X_train,y_train)\n"
   ]
  },
  {
   "cell_type": "code",
   "execution_count": null,
   "metadata": {},
   "outputs": [],
   "source": [
    "knn = KNeighborsClassifier()\n",
    "clf_knn = GridSearchCV(knn, param_knn, cv=5, n_jobs = 4)\n",
    "clf_knn.fit(X_train,y_train)\n"
   ]
  },
  {
   "cell_type": "code",
   "execution_count": null,
   "metadata": {},
   "outputs": [],
   "source": [
    "results_svm = pd.Dataframe.from_dict(clf_svm.cv_results_)\n",
    "results_svm.to_csv(\"./svm.csv\")\n",
    "\n",
    "results_knn = pd.Dataframe.from_dict(clf_knn.cv_results_)\n",
    "results_knn.to_csv(\"./knn.csv\")"
   ]
  },
  {
   "cell_type": "code",
   "execution_count": null,
   "metadata": {},
   "outputs": [],
   "source": [
    "ada = AdaBoostClassifier()\n",
    "clf_ada = GridSearchCV(ada, param_ada, cv=5,n_jobs = 4)\n",
    "clf_ada.fit(X_train,y_train)"
   ]
  }
 ],
 "metadata": {
  "kernelspec": {
   "display_name": "Python 3",
   "language": "python",
   "name": "python3"
  },
  "language_info": {
   "codemirror_mode": {
    "name": "ipython",
    "version": 3
   },
   "file_extension": ".py",
   "mimetype": "text/x-python",
   "name": "python",
   "nbconvert_exporter": "python",
   "pygments_lexer": "ipython3",
   "version": "3.6.8"
  }
 },
 "nbformat": 4,
 "nbformat_minor": 2
}
