{
 "cells": [
  {
   "cell_type": "markdown",
   "metadata": {},
   "source": [
    "This code does a grid search for the following classifier: SVM,KNN,Adaboost.\n",
    "To shorten computation time, hyperparameters tuning is done on a subset of the dataset. The subset has the same distribution as the whole dataset."
   ]
  },
  {
   "cell_type": "code",
   "execution_count": 3,
   "metadata": {},
   "outputs": [],
   "source": [
    "import numpy as np\n",
    "import os\n",
    "import pandas as pd\n",
    "from sklearn import svm\n",
    "from sklearn.model_selection import GridSearchCV\n",
    "from sklearn.model_selection import train_test_split\n",
    "from sklearn.neighbors import KNeighborsClassifier\n",
    "from sklearn.ensemble import AdaBoostClassifier\n",
    "\n",
    "data_path = os.path.join('.','tests','test_output')\n",
    "# load first batch\n",
    "X = np.load(os.path.join(data_path,'x_split_0.npy'),mmap_mode='r')\n",
    "Y = np.load(os.path.join(data_path,'y_split_0.npy'),mmap_mode='r')\n",
    "\n",
    "#Grid search parameters\n",
    "param_svm = [\n",
    "    {'C': [1, 10, 100, 1000], 'kernel': ['linear']}\n",
    " ]\n",
    "\n",
    "param_knn = [\n",
    "    {'n_neighbors': [1, 3, 5]}\n",
    " ]\n",
    "\n",
    "param_ada = {\n",
    " 'n_estimators': [50, 100],\n",
    " 'learning_rate' : [0.01,0.1,0.3,1]\n",
    "}"
   ]
  },
  {
   "cell_type": "code",
   "execution_count": null,
   "metadata": {},
   "outputs": [],
   "source": [
    "#split into train and test\n",
    "X_train, X_test, y_train, y_test = train_test_split(X, Y, test_size=0.33, stratify = Y)"
   ]
  },
  {
   "cell_type": "code",
   "execution_count": null,
   "metadata": {},
   "outputs": [],
   "source": [
    "knn = KNeighborsClassifier()\n",
    "clf_knn = GridSearchCV(knn, param_knn, cv=3, n_jobs = 4,pre_dispatch = 4,return_train_score=True)\n",
    "clf_knn.fit(X,Y)"
   ]
  },
  {
   "cell_type": "code",
   "execution_count": null,
   "metadata": {},
   "outputs": [],
   "source": [
    "results_knn = pd.DataFrame.from_dict(clf_knn.cv_results_)\n",
    "results_knn.to_csv(os.path.join(data_path,'knn.csv'))"
   ]
  },
  {
   "cell_type": "code",
   "execution_count": null,
   "metadata": {},
   "outputs": [],
   "source": [
    "svc = svm.SVC(gamma='auto')\n",
    "clf_svm = GridSearchCV(svc, param_svm, cv=3,n_jobs = 4,pre_dispatch = 4,return_train_score=True)\n",
    "clf_svm.fit(X,Y)"
   ]
  },
  {
   "cell_type": "code",
   "execution_count": null,
   "metadata": {},
   "outputs": [],
   "source": [
    "results_svm = pd.DataFrame.from_dict(clf_svm.cv_results_)\n",
    "results_svm.to_csv(os.path.join(data_path,'svm.csv'))"
   ]
  },
  {
   "cell_type": "code",
   "execution_count": null,
   "metadata": {},
   "outputs": [],
   "source": [
    "ada = AdaBoostClassifier()\n",
    "clf_ada = GridSearchCV(ada, param_ada, cv=3,n_jobs = 4,pre_dispatch = 4,return_train_score=True)\n",
    "clf_ada.fit(X_train,y_train)"
   ]
  },
  {
   "cell_type": "code",
   "execution_count": null,
   "metadata": {},
   "outputs": [],
   "source": [
    "results_ada = pd.DataFrame.from_dict(clf_ada.cv_results_)\n",
    "results_ada.to_csv(os.path.join(data_path,'ada.csv'))"
   ]
  }
 ],
 "metadata": {
  "kernelspec": {
   "display_name": "Python 3",
   "language": "python",
   "name": "python3"
  },
  "language_info": {
   "codemirror_mode": {
    "name": "ipython",
    "version": 3
   },
   "file_extension": ".py",
   "mimetype": "text/x-python",
   "name": "python",
   "nbconvert_exporter": "python",
   "pygments_lexer": "ipython3",
   "version": "3.6.8"
  }
 },
 "nbformat": 4,
 "nbformat_minor": 2
}
