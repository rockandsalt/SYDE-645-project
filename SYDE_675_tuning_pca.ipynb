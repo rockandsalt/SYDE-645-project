{
 "cells": [
  {
   "cell_type": "markdown",
   "metadata": {},
   "source": [
    "Hyperparameter tuning for PCA"
   ]
  },
  {
   "cell_type": "code",
   "execution_count": null,
   "metadata": {},
   "outputs": [],
   "source": [
    "import numpy as np\n",
    "import os\n",
    "import pandas as pd\n",
    "from sklearn import svm\n",
    "from sklearn.model_selection import GridSearchCV\n",
    "from sklearn.model_selection import train_test_split\n",
    "from sklearn.neighbors import KNeighborsClassifier\n",
    "from sklearn.ensemble import AdaBoostClassifier\n",
    "from sklearn import svm\n",
    "from sklearn.pipeline import Pipeline\n",
    "from sklearn.decomposition import PCA\n",
    "    \n",
    "data_path = os.path.join('.','tests','test_output')\n",
    "\n",
    "X = np.load(os.path.join(data_path,'x_split_0.npy'),mmap_mode='r')\n",
    "Y = np.load(os.path.join(data_path,'y_split_0.npy'),mmap_mode='r')\n"
   ]
  },
  {
   "cell_type": "code",
   "execution_count": null,
   "metadata": {},
   "outputs": [],
   "source": [
    "X_train, X_test, y_train, y_test = train_test_split(X, Y, test_size=0.33, stratify = Y)"
   ]
  },
  {
   "cell_type": "code",
   "execution_count": null,
   "metadata": {},
   "outputs": [],
   "source": [
    "knn = KNeighborsClassifier()\n",
    "pca = PCA()\n",
    "pipe = Pipeline(steps=[('pca', pca), ('knn', knn)])\n",
    "\n",
    "param_knn = {\n",
    "    'pca__n_components':[100,1000],\n",
    "    'knn__n_neighbors': [1,3,5]\n",
    "}\n",
    "\n",
    "clf_knn = GridSearchCV(pipe, param_knn, cv=3, n_jobs = 10,pre_dispatch = 15,return_train_score=True)\n",
    "clf_knn.fit(X_train,y_train)"
   ]
  },
  {
   "cell_type": "code",
   "execution_count": null,
   "metadata": {},
   "outputs": [],
   "source": [
    "results_knn = pd.DataFrame.from_dict(clf_knn.cv_results_)\n",
    "results_knn.to_csv(os.path.join(data_path,'pca_knn.csv'))"
   ]
  },
  {
   "cell_type": "code",
   "execution_count": null,
   "metadata": {},
   "outputs": [],
   "source": [
    "from sklearn import tree\n",
    "\n",
    "tree = tree.DecisionTreeClassifier()\n",
    "pca_t = PCA()\n",
    "pipe_t = Pipeline(steps=[('pca', pca_t), ('tree', tree)])\n",
    "\n",
    "param_tree = {\n",
    "    'pca__n_components':[100,1000],\n",
    "    'tree__max_depth': [4,10,None]\n",
    "}\n",
    "\n",
    "clf_tree = GridSearchCV(pipe_t , param_tree, cv=3, n_jobs = 10,pre_dispatch = 15,return_train_score=True)\n",
    "clf_tree.fit(X_train,y_train)"
   ]
  },
  {
   "cell_type": "code",
   "execution_count": null,
   "metadata": {},
   "outputs": [],
   "source": [
    "results_tree = pd.DataFrame.from_dict(clf_tree.cv_results_)\n",
    "results_tree.to_csv(os.path.join(data_path,'pca_tree.csv'))"
   ]
  }
 ],
 "metadata": {
  "kernelspec": {
   "display_name": "Python 3",
   "language": "python",
   "name": "python3"
  },
  "language_info": {
   "codemirror_mode": {
    "name": "ipython",
    "version": 3
   },
   "file_extension": ".py",
   "mimetype": "text/x-python",
   "name": "python",
   "nbconvert_exporter": "python",
   "pygments_lexer": "ipython3",
   "version": "3.6.8"
  }
 },
 "nbformat": 4,
 "nbformat_minor": 2
}
