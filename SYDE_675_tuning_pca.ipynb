{
 "cells": [
  {
   "cell_type": "code",
   "execution_count": 1,
   "metadata": {},
   "outputs": [],
   "source": [
    "import numpy as np\n",
    "import os\n",
    "import pandas as pd\n",
    "from sklearn import svm\n",
    "from sklearn.model_selection import GridSearchCV\n",
    "from sklearn.model_selection import train_test_split\n",
    "from sklearn.neighbors import KNeighborsClassifier\n",
    "from sklearn.ensemble import AdaBoostClassifier\n",
    "from sklearn import svm\n",
    "from sklearn.pipeline import Pipeline\n",
    "from sklearn.decomposition import PCA\n",
    "    \n",
    "data_path = os.path.join('.','tests','test_output')\n",
    "\n",
    "X = np.load(os.path.join(data_path,'X.npy'),mmap_mode='r')\n",
    "Y = np.load(os.path.join(data_path,'Y.npy'),mmap_mode='r')\n",
    "\n",
    "\n"
   ]
  },
  {
   "cell_type": "code",
   "execution_count": 12,
   "metadata": {},
   "outputs": [],
   "source": [
    "X_train, X_test, y_train, y_test = train_test_split(X, Y, test_size=0.33, stratify = Y)\n"
   ]
  },
  {
   "cell_type": "code",
   "execution_count": 13,
   "metadata": {},
   "outputs": [
    {
     "data": {
      "text/plain": [
       "GridSearchCV(cv=3, error_score='raise-deprecating',\n",
       "       estimator=Pipeline(memory=None,\n",
       "     steps=[('pca', PCA(copy=True, iterated_power='auto', n_components=None, random_state=None,\n",
       "  svd_solver='auto', tol=0.0, whiten=False)), ('knn', KNeighborsClassifier(algorithm='auto', leaf_size=30, metric='minkowski',\n",
       "           metric_params=None, n_jobs=None, n_neighbors=5, p=2,\n",
       "           weights='uniform'))]),\n",
       "       fit_params=None, iid='warn', n_jobs=10,\n",
       "       param_grid={'pca__n_components': [100, 1000], 'knn__n_neighbors': [1, 5]},\n",
       "       pre_dispatch=15, refit=True, return_train_score=True, scoring=None,\n",
       "       verbose=0)"
      ]
     },
     "execution_count": 13,
     "metadata": {},
     "output_type": "execute_result"
    }
   ],
   "source": [
    "knn = KNeighborsClassifier()\n",
    "pca = PCA()\n",
    "pipe = Pipeline(steps=[('pca', pca), ('knn', knn)])\n",
    "\n",
    "param_knn = {\n",
    "    'pca__n_components':[100,1000],\n",
    "    'knn__n_neighbors': [1,3,5]\n",
    "}\n",
    "\n",
    "clf_knn = GridSearchCV(pipe, param_knn, cv=3, n_jobs = 10,pre_dispatch = 15,return_train_score=True)\n",
    "clf_knn.fit(X_train,y_train)"
   ]
  },
  {
   "cell_type": "code",
   "execution_count": 14,
   "metadata": {},
   "outputs": [],
   "source": [
    "results_knn = pd.DataFrame.from_dict(clf_knn.cv_results_)\n",
    "results_knn.to_csv(os.path.join(data_path,'pca_knn.csv'))"
   ]
  },
  {
   "cell_type": "code",
   "execution_count": 5,
   "metadata": {},
   "outputs": [
    {
     "data": {
      "text/plain": [
       "GridSearchCV(cv=3, error_score='raise-deprecating',\n",
       "       estimator=Pipeline(memory=None,\n",
       "     steps=[('pca', PCA(copy=True, iterated_power='auto', n_components=None, random_state=None,\n",
       "  svd_solver='auto', tol=0.0, whiten=False)), ('tree', DecisionTreeClassifier(class_weight=None, criterion='gini', max_depth=None,\n",
       "            max_features=None, max_leaf_n...     min_weight_fraction_leaf=0.0, presort=False, random_state=None,\n",
       "            splitter='best'))]),\n",
       "       fit_params=None, iid='warn', n_jobs=2,\n",
       "       param_grid={'pca__n_components': [10000], 'tree__max_depth': [None]},\n",
       "       pre_dispatch=4, refit=True, return_train_score=True, scoring=None,\n",
       "       verbose=0)"
      ]
     },
     "execution_count": 5,
     "metadata": {},
     "output_type": "execute_result"
    }
   ],
   "source": [
    "from sklearn import tree\n",
    "\n",
    "tree = tree.DecisionTreeClassifier()\n",
    "pca_t = PCA()\n",
    "pipe_t = Pipeline(steps=[('pca', pca_t), ('tree', tree)])\n",
    "\n",
    "param_tree = {\n",
    "    'pca__n_components':[10000],\n",
    "    'tree__max_depth': [None]\n",
    "}\n",
    "\n",
    "clf_tree = GridSearchCV(pipe_t , param_tree, cv=3, n_jobs = 2,pre_dispatch = 4,return_train_score=True)\n",
    "clf_tree.fit(X,Y)"
   ]
  },
  {
   "cell_type": "code",
   "execution_count": 6,
   "metadata": {},
   "outputs": [],
   "source": [
    "results_tree = pd.DataFrame.from_dict(clf_tree.cv_results_)\n",
    "results_tree.to_csv(os.path.join(data_path,'pca_tree_all.csv'))"
   ]
  }
 ],
 "metadata": {
  "kernelspec": {
   "display_name": "Python 3",
   "language": "python",
   "name": "python3"
  },
  "language_info": {
   "codemirror_mode": {
    "name": "ipython",
    "version": 3
   },
   "file_extension": ".py",
   "mimetype": "text/x-python",
   "name": "python",
   "nbconvert_exporter": "python",
   "pygments_lexer": "ipython3",
   "version": "3.6.8"
  }
 },
 "nbformat": 4,
 "nbformat_minor": 2
}
