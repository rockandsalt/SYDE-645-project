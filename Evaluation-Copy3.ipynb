{
 "cells": [
  {
   "cell_type": "code",
   "execution_count": 1,
   "metadata": {},
   "outputs": [],
   "source": [
    "import numpy as np\n",
    "import os\n",
    "import pandas as pd\n",
    "from sklearn.model_selection import train_test_split\n",
    "from sklearn.neighbors import KNeighborsClassifier\n",
    "from sklearn.ensemble import AdaBoostClassifier\n",
    "from sklearn.svm import SVC\n",
    "from sklearn.decomposition import PCA\n",
    "from sklearn import tree\n",
    "from sklearn.model_selection import StratifiedKFold\n",
    "import time\n",
    "\n",
    "data_path = os.path.join('.','tests','test_output')"
   ]
  },
  {
   "cell_type": "code",
   "execution_count": 2,
   "metadata": {},
   "outputs": [],
   "source": [
    "y_true = []\n",
    "\n",
    "knn_y = []\n",
    "svm_y = []\n",
    "dt_y = []\n",
    "\n",
    "for i in range(8):\n",
    "    pca = PCA(n_components = 100)\n",
    "    X = np.load(os.path.join(data_path,'x_split8_{}.npy'.format(i)),mmap_mode='r')\n",
    "    Y = np.load(os.path.join(data_path,'y_split8_{}.npy'.format(i)),mmap_mode='r')\n",
    "    \n",
    "    X_train, X_test, y_train, y_test = train_test_split(X, Y, test_size=0.33, stratify = Y)\n",
    "    \n",
    "    X_train = pca.fit_transform(X_train)\n",
    "    X_test = pca.transform(X_test)\n",
    "    \n",
    "    knn = KNeighborsClassifier(n_neighbors=1)\n",
    "    svm = SVC(C=1000,kernel = 'linear')\n",
    "    dt = tree.DecisionTreeClassifier()\n",
    "    \n",
    "    knn.fit(X_train,y_train)\n",
    "    svm.fit(X_train,y_train)\n",
    "    dt.fit(X_train,y_train)\n",
    "    \n",
    "    y_true.append(y_test)\n",
    "    \n",
    "    knn_y.append(knn.predict(X_test))\n",
    "    svm_y.append(svm.predict(X_test))\n",
    "    dt_y.append(dt.predict(X_test))\n",
    "    "
   ]
  },
  {
   "cell_type": "code",
   "execution_count": 3,
   "metadata": {},
   "outputs": [
    {
     "name": "stdout",
     "output_type": "stream",
     "text": [
      "q:28.04206500956023,p:8.142222247858422e-07\n",
      "q:19.319311663479922,p:6.380647831761894e-05\n",
      "q:54.06026365348399,p:1.8237399116478303e-12\n",
      "q:18.666666666666668,p:8.8426988659883e-05\n",
      "q:37.870370370370374,p:5.977967646550633e-09\n",
      "q:27.749532710280373,p:9.42465658266892e-07\n",
      "q:7.833655705996131,p:0.01990413354488903\n",
      "q:39.02048417132216,p:3.3636401021166876e-09\n"
     ]
    },
    {
     "name": "stderr",
     "output_type": "stream",
     "text": [
      "C:\\Users\\Msam\\.conda\\envs\\machine_learning\\lib\\site-packages\\mlxtend\\evaluate\\cochrans_q.py:75: FutureWarning: arrays to stack must be passed as a \"sequence\" type such as list or tuple. Support for non-sequence iterables such as generators is deprecated as of NumPy 1.16 and will raise an error in the future.\n",
      "  mod in y_model_predictions)).astype(int)\n"
     ]
    }
   ],
   "source": [
    "from mlxtend.evaluate import cochrans_q\n",
    "\n",
    "for i in range(8):\n",
    "    q, p_value = cochrans_q(y_true[i], \n",
    "                        knn_y[i], \n",
    "                        svm_y[i], \n",
    "                        dt_y[i])\n",
    "    print(\"q:{},p:{}\".format(q, p_value))"
   ]
  },
  {
   "cell_type": "code",
   "execution_count": 4,
   "metadata": {},
   "outputs": [
    {
     "name": "stdout",
     "output_type": "stream",
     "text": [
      "knn score:0.5171717171717172\n",
      "svm score:0.5050505050505051\n",
      "dt score:0.42525252525252527\n",
      "knn score:0.5\n",
      "svm score:0.5383838383838384\n",
      "dt score:0.45555555555555555\n",
      "knn score:0.5171717171717172\n",
      "svm score:0.5444444444444444\n",
      "dt score:0.4121212121212121\n",
      "knn score:0.5070707070707071\n",
      "svm score:0.5373737373737374\n",
      "dt score:0.45656565656565656\n",
      "knn score:0.4858585858585859\n",
      "svm score:0.5262626262626262\n",
      "dt score:0.4101010101010101\n",
      "knn score:0.503030303030303\n",
      "svm score:0.509090909090909\n",
      "dt score:0.41919191919191917\n",
      "knn score:0.5141414141414141\n",
      "svm score:0.5141414141414141\n",
      "dt score:0.4686868686868687\n",
      "knn score:0.5151515151515151\n",
      "svm score:0.5595959595959596\n",
      "dt score:0.4414141414141414\n"
     ]
    }
   ],
   "source": [
    "for i in range(8):\n",
    "    knn_sc = np.mean(y_true[i]==knn_y[i])\n",
    "    print(\"knn score:{}\".format(knn_sc))\n",
    "    \n",
    "    svm_sc = np.mean(y_true[i]==svm_y[i])\n",
    "    print(\"svm score:{}\".format(svm_sc))\n",
    "    \n",
    "    dt_sc = np.mean(y_true[i]==dt_y[i])\n",
    "    print(\"dt score:{}\".format(dt_sc))"
   ]
  }
 ],
 "metadata": {
  "kernelspec": {
   "display_name": "Python 3",
   "language": "python",
   "name": "python3"
  },
  "language_info": {
   "codemirror_mode": {
    "name": "ipython",
    "version": 3
   },
   "file_extension": ".py",
   "mimetype": "text/x-python",
   "name": "python",
   "nbconvert_exporter": "python",
   "pygments_lexer": "ipython3",
   "version": "3.6.8"
  }
 },
 "nbformat": 4,
 "nbformat_minor": 2
}
