{
 "cells": [
  {
   "cell_type": "code",
   "execution_count": 1,
   "metadata": {},
   "outputs": [],
   "source": [
    "import numpy as np\n",
    "import os\n",
    "import pandas as pd\n",
    "from sklearn.model_selection import train_test_split\n",
    "from sklearn.neighbors import KNeighborsClassifier\n",
    "from sklearn.ensemble import AdaBoostClassifier\n",
    "from sklearn.svm import SVC\n",
    "from sklearn.decomposition import PCA\n",
    "from sklearn import tree\n",
    "from sklearn.model_selection import StratifiedKFold\n",
    "import time\n",
    "\n",
    "data_path = os.path.join('.','tests','test_output')"
   ]
  },
  {
   "cell_type": "code",
   "execution_count": 2,
   "metadata": {},
   "outputs": [
    {
     "name": "stdout",
     "output_type": "stream",
     "text": [
      "0.21875\n",
      "0.3593733310699463\n",
      "0.3593733310699463\n",
      "0.2187514305114746\n",
      "0.3750011920928955\n",
      "0.3750011920928955\n",
      "0.23437833786010742\n",
      "0.37500452995300293\n",
      "0.37500452995300293\n",
      "0.23436951637268066\n",
      "0.40624475479125977\n",
      "0.40624475479125977\n",
      "0.21875214576721191\n",
      "0.3750016689300537\n",
      "0.3750016689300537\n",
      "0.21875\n",
      "0.39061880111694336\n",
      "0.39061880111694336\n",
      "0.2031264305114746\n",
      "0.34375\n",
      "0.35934972763061523\n",
      "0.21702814102172852\n",
      "0.3622121810913086\n",
      "0.3622121810913086\n"
     ]
    }
   ],
   "source": [
    "y_true = []\n",
    "\n",
    "knn_y = []\n",
    "svm_y = []\n",
    "dt_y = []\n",
    "\n",
    "for i in range(8):\n",
    "    pca = PCA(n_components = 100)\n",
    "    X = np.load(os.path.join(data_path,'x_split8_{}.npy'.format(i)),mmap_mode='r')\n",
    "    Y = np.load(os.path.join(data_path,'y_split8_{}.npy'.format(i)),mmap_mode='r')\n",
    "    \n",
    "    X_train, X_test, y_train, y_test = train_test_split(X, Y, test_size=0.33, stratify = Y)\n",
    "    \n",
    "    X_train = pca.fit_transform(X_train)\n",
    "    X_test = pca.transform(X_test)\n",
    "    \n",
    "    knn = KNeighborsClassifier(n_neighbors=1)\n",
    "    svm = SVC(C=1000,kernel = 'linear')\n",
    "    dt = tree.DecisionTreeClassifier()\n",
    "    \n",
    "    knn.fit(X_train,y_train)\n",
    "    svm.fit(X_train,y_train)\n",
    "    dt.fit(X_train,y_train)\n",
    "    \n",
    "    y_true.append(y_test)\n",
    "    start_time = time.time()\n",
    "    knn_y.append(knn.predict(X_test))\n",
    "    print(time.time()-start_time)\n",
    "    svm_y.append(svm.predict(X_test))\n",
    "    print(time.time()-start_time)\n",
    "    dt_y.append(dt.predict(X_test))\n",
    "    print(time.time()-start_time)\n",
    "    "
   ]
  },
  {
   "cell_type": "code",
   "execution_count": 3,
   "metadata": {},
   "outputs": [
    {
     "name": "stdout",
     "output_type": "stream",
     "text": [
      "q:32.13842482100239,p:1.0500977346503968e-07\n",
      "q:26.951945080091534,p:1.404298679855418e-06\n",
      "q:17.545454545454547,p:0.00015490054800838547\n",
      "q:47.795180722891565,p:4.1822344515085574e-11\n",
      "q:29.05831533477322,p:4.898543830843277e-07\n",
      "q:32.365591397849464,p:9.373485808274206e-08\n",
      "q:28.72093023255814,p:5.79868132926313e-07\n",
      "q:15.6,p:0.0004097349789797871\n"
     ]
    },
    {
     "name": "stderr",
     "output_type": "stream",
     "text": [
      "C:\\Users\\Msam\\.conda\\envs\\machine_learning\\lib\\site-packages\\mlxtend\\evaluate\\cochrans_q.py:75: FutureWarning: arrays to stack must be passed as a \"sequence\" type such as list or tuple. Support for non-sequence iterables such as generators is deprecated as of NumPy 1.16 and will raise an error in the future.\n",
      "  mod in y_model_predictions)).astype(int)\n"
     ]
    }
   ],
   "source": [
    "from mlxtend.evaluate import cochrans_q\n",
    "\n",
    "for i in range(8):\n",
    "    q, p_value = cochrans_q(y_true[i], \n",
    "                        knn_y[i], \n",
    "                        svm_y[i], \n",
    "                        dt_y[i])\n",
    "    print(\"q:{},p:{}\".format(q, p_value))"
   ]
  },
  {
   "cell_type": "code",
   "execution_count": 4,
   "metadata": {},
   "outputs": [
    {
     "name": "stdout",
     "output_type": "stream",
     "text": [
      "knn score:0.593939393939394\n",
      "svm score:0.6707070707070707\n",
      "dt score:0.5828282828282828\n",
      "knn score:0.5757575757575758\n",
      "svm score:0.6292929292929293\n",
      "dt score:0.5404040404040404\n",
      "knn score:0.5949494949494949\n",
      "svm score:0.6080808080808081\n",
      "dt score:0.5414141414141415\n",
      "knn score:0.5080808080808081\n",
      "svm score:0.5575757575757576\n",
      "dt score:0.4313131313131313\n",
      "knn score:0.5707070707070707\n",
      "svm score:0.6282828282828283\n",
      "dt score:0.5333333333333333\n",
      "knn score:0.5323232323232323\n",
      "svm score:0.5878787878787879\n",
      "dt score:0.4868686868686869\n",
      "knn score:0.5959595959595959\n",
      "svm score:0.6111111111111112\n",
      "dt score:0.5252525252525253\n",
      "knn score:0.5727272727272728\n",
      "svm score:0.6080808080808081\n",
      "dt score:0.5434343434343434\n"
     ]
    }
   ],
   "source": [
    "for i in range(8):\n",
    "    knn_sc = np.mean(y_true[i]==knn_y[i])\n",
    "    print(\"knn score:{}\".format(knn_sc))\n",
    "    \n",
    "    svm_sc = np.mean(y_true[i]==svm_y[i])\n",
    "    print(\"svm score:{}\".format(svm_sc))\n",
    "    \n",
    "    dt_sc = np.mean(y_true[i]==dt_y[i])\n",
    "    print(\"dt score:{}\".format(dt_sc))"
   ]
  }
 ],
 "metadata": {
  "kernelspec": {
   "display_name": "Python 3",
   "language": "python",
   "name": "python3"
  },
  "language_info": {
   "codemirror_mode": {
    "name": "ipython",
    "version": 3
   },
   "file_extension": ".py",
   "mimetype": "text/x-python",
   "name": "python",
   "nbconvert_exporter": "python",
   "pygments_lexer": "ipython3",
   "version": "3.6.8"
  }
 },
 "nbformat": 4,
 "nbformat_minor": 2
}
