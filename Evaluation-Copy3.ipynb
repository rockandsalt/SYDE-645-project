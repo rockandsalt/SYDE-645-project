{
 "cells": [
  {
   "cell_type": "code",
   "execution_count": 3,
   "metadata": {},
   "outputs": [],
   "source": [
    "import numpy as np\n",
    "import os\n",
    "import pandas as pd\n",
    "from sklearn.model_selection import train_test_split\n",
    "from sklearn.neighbors import KNeighborsClassifier\n",
    "from sklearn.ensemble import AdaBoostClassifier\n",
    "from sklearn.svm import SVC\n",
    "from sklearn.decomposition import PCA\n",
    "from sklearn import tree\n",
    "from sklearn.model_selection import StratifiedKFold\n",
    "import time\n",
    "\n",
    "data_path = os.path.join('.','tests','test_output')"
   ]
  },
  {
   "cell_type": "code",
   "execution_count": 4,
   "metadata": {},
   "outputs": [
    {
     "name": "stdout",
     "output_type": "stream",
     "text": [
      "0.2339017391204834\n",
      "0.37285709381103516\n",
      "0.3738830089569092\n",
      "0.22790241241455078\n",
      "0.3808622360229492\n",
      "0.3818495273590088\n",
      "0.22290921211242676\n",
      "0.3708617687225342\n",
      "0.3718743324279785\n",
      "0.22493410110473633\n",
      "0.3888835906982422\n",
      "0.38987231254577637\n",
      "0.22292876243591309\n",
      "0.3738837242126465\n",
      "0.37488365173339844\n",
      "0.21593022346496582\n",
      "0.3798801898956299\n",
      "0.38187718391418457\n",
      "0.20593762397766113\n",
      "0.35788965225219727\n",
      "0.35889148712158203\n",
      "0.2079334259033203\n",
      "0.3568863868713379\n",
      "0.35788559913635254\n"
     ]
    }
   ],
   "source": [
    "y_true = []\n",
    "\n",
    "knn_y = []\n",
    "svm_y = []\n",
    "dt_y = []\n",
    "\n",
    "for i in range(8):\n",
    "    pca = PCA(n_components = 100)\n",
    "    X = np.load(os.path.join(data_path,'x_split8_{}.npy'.format(i)),mmap_mode='r')\n",
    "    Y = np.load(os.path.join(data_path,'y_split8_{}.npy'.format(i)),mmap_mode='r')\n",
    "    \n",
    "    X_train, X_test, y_train, y_test = train_test_split(X, Y, test_size=0.33, stratify = Y)\n",
    "    \n",
    "    X_train = pca.fit_transform(X_train)\n",
    "    X_test = pca.transform(X_test)\n",
    "    \n",
    "    knn = KNeighborsClassifier(n_neighbors=1)\n",
    "    svm = SVC(C=1000,kernel = 'linear')\n",
    "    dt = tree.DecisionTreeClassifier()\n",
    "    \n",
    "    knn.fit(X_train,y_train)\n",
    "    svm.fit(X_train,y_train)\n",
    "    dt.fit(X_train,y_train)\n",
    "    \n",
    "    y_true.append(y_test)\n",
    "    start_time = time.time()\n",
    "    knn_y.append(knn.predict(X_test))\n",
    "    print(time.time()-start_time)\n",
    "    svm_y.append(svm.predict(X_test))\n",
    "    print(time.time()-start_time)\n",
    "    dt_y.append(dt.predict(X_test))\n",
    "    print(time.time()-start_time)\n",
    "    "
   ]
  },
  {
   "cell_type": "code",
   "execution_count": 11,
   "metadata": {},
   "outputs": [
    {
     "name": "stdout",
     "output_type": "stream",
     "text": [
      "q:276.5125142207053,p:9.03796069649009e-61\n"
     ]
    }
   ],
   "source": [
    "from mlxtend.evaluate import cochrans_q\n",
    "import numpy as np\n",
    "import itertools\n",
    "\n",
    "y_all = np.ravel(y_true)\n",
    "knn_all = np.ravel(knn_y)\n",
    "dt_all = np.ravel(dt_y)\n",
    "svm_all = np.ravel(svm_y)\n",
    "\n",
    "q, p_value = cochrans_q(y_all, \n",
    "                    knn_all, \n",
    "                    svm_all, \n",
    "                    dt_all)\n",
    "print(\"q:{},p:{}\".format(q, p_value))"
   ]
  },
  {
   "cell_type": "code",
   "execution_count": 6,
   "metadata": {},
   "outputs": [
    {
     "name": "stdout",
     "output_type": "stream",
     "text": [
      "knn score:0.5878787878787879\n",
      "svm score:0.6888888888888889\n",
      "dt score:0.5545454545454546\n",
      "knn score:0.5888888888888889\n",
      "svm score:0.6262626262626263\n",
      "dt score:0.5232323232323233\n",
      "knn score:0.6121212121212121\n",
      "svm score:0.6363636363636364\n",
      "dt score:0.5414141414141415\n",
      "knn score:0.5474747474747474\n",
      "svm score:0.5747474747474748\n",
      "dt score:0.46060606060606063\n",
      "knn score:0.5525252525252525\n",
      "svm score:0.5909090909090909\n",
      "dt score:0.49797979797979797\n",
      "knn score:0.5272727272727272\n",
      "svm score:0.5737373737373738\n",
      "dt score:0.5050505050505051\n",
      "knn score:0.6202020202020202\n",
      "svm score:0.6424242424242425\n",
      "dt score:0.5363636363636364\n",
      "knn score:0.603030303030303\n",
      "svm score:0.6090909090909091\n",
      "dt score:0.5181818181818182\n"
     ]
    }
   ],
   "source": [
    "for i in range(8):\n",
    "    knn_sc = np.mean(y_true[i]==knn_y[i])\n",
    "    print(\"knn score:{}\".format(knn_sc))\n",
    "    \n",
    "    svm_sc = np.mean(y_true[i]==svm_y[i])\n",
    "    print(\"svm score:{}\".format(svm_sc))\n",
    "    \n",
    "    dt_sc = np.mean(y_true[i]==dt_y[i])\n",
    "    print(\"dt score:{}\".format(dt_sc))\n"
   ]
  },
  {
   "cell_type": "code",
   "execution_count": 13,
   "metadata": {},
   "outputs": [
    {
     "name": "stdout",
     "output_type": "stream",
     "text": [
      "0.5799242424242425\n",
      "0.6178030303030303\n",
      "0.5171717171717172\n"
     ]
    }
   ],
   "source": [
    "print(np.mean(y_all==knn_all))\n",
    "print(np.mean(y_all==svm_all))\n",
    "print(np.mean(y_all==dt_all))"
   ]
  },
  {
   "cell_type": "code",
   "execution_count": 14,
   "metadata": {},
   "outputs": [
    {
     "name": "stdout",
     "output_type": "stream",
     "text": [
      "compare knn svm\n",
      "\n",
      "[[3655 1238]\n",
      " [ 938 2089]]\n",
      "chi-squared: 41.08501838235294\n",
      "p-value: 1.4574925449339975e-10\n",
      "compare knn dt\n",
      "\n",
      "[[3175  921]\n",
      " [1418 2406]]\n",
      "chi-squared: 105.17999144933732\n",
      "p-value: 1.1153041474242718e-24\n",
      "compare svm dt\n",
      "\n",
      "[[3236  860]\n",
      " [1657 2167]]\n",
      "chi-squared: 251.73460468812078\n",
      "p-value: 1.0871396620633743e-56\n"
     ]
    }
   ],
   "source": [
    "import numpy as np\n",
    "from mlxtend.evaluate import mcnemar_table\n",
    "from mlxtend.evaluate import mcnemar\n",
    "\n",
    "\n",
    "print(\"compare knn svm\\n\")\n",
    "knn_svm_tb = mcnemar_table(y_target=y_all, \n",
    "               y_model1=knn_all, \n",
    "               y_model2=svm_all)\n",
    "print(knn_svm_tb)\n",
    "\n",
    "chi2, p = mcnemar(ary=knn_svm_tb, corrected=True)\n",
    "print('chi-squared:', chi2)\n",
    "print('p-value:', p)\n",
    "\n",
    "print(\"compare knn dt\\n\")\n",
    "knn_dt_tb = mcnemar_table(y_target=y_all, \n",
    "           y_model1=knn_all, \n",
    "           y_model2=dt_all)\n",
    "\n",
    "print(knn_dt_tb)\n",
    "\n",
    "chi2, p = mcnemar(ary=knn_dt_tb, corrected=True)\n",
    "print('chi-squared:', chi2)\n",
    "print('p-value:', p)\n",
    "\n",
    "print(\"compare svm dt\\n\")\n",
    "svm_dt_tb = mcnemar_table(y_target=y_all, \n",
    "       y_model1=svm_all, \n",
    "       y_model2=dt_all)\n",
    "\n",
    "print(svm_dt_tb)\n",
    "\n",
    "chi2, p = mcnemar(ary=svm_dt_tb, corrected=True)\n",
    "print('chi-squared:', chi2)\n",
    "print('p-value:', p)\n",
    "    \n",
    "    "
   ]
  },
  {
   "cell_type": "code",
   "execution_count": 15,
   "metadata": {},
   "outputs": [
    {
     "name": "stdout",
     "output_type": "stream",
     "text": [
      "[ 78. 134. 109. 159.  87.  59.  51. 117. 116. 122.  31. 339. 105.  18.\n",
      " 179. 345. 426.  97.  46. 128. 216.  49.  86. 230.]\n",
      "[169. 260. 261.  75. 101.  68.  77.  64.  85.  68.  41. 282. 124.   6.\n",
      " 206. 249. 213.  94. 136.  94. 132.  45.  93.  84.]\n",
      "[157. 195. 174. 112. 116. 157. 116. 128. 124. 105.  74. 328. 159.  33.\n",
      " 249. 259. 303. 116. 175. 149. 198.  75. 151. 171.]\n"
     ]
    }
   ],
   "source": [
    "number_sample = len(y_all)\n",
    "knn_true = np.zeros(24)\n",
    "knn_false = np.zeros(24)\n",
    "\n",
    "svm_true = np.zeros(24)\n",
    "svm_false = np.zeros(24)\n",
    "\n",
    "dt_true = np.zeros(24)\n",
    "dt_false = np.zeros(24)\n",
    "\n",
    "for i in range(number_sample):\n",
    "    if(y_all[i] == knn_all[i]):\n",
    "        knn_true[knn_all[i]] += 1\n",
    "    else:\n",
    "        knn_false[knn_all[i]] += 1\n",
    "    \n",
    "    if(y_all[i] == svm_all[i]):\n",
    "        svm_true[svm_all[i]] += 1\n",
    "    else:\n",
    "        svm_false[svm_all[i]] += 1\n",
    "        \n",
    "    if(y_all[i] == dt_all[i]):\n",
    "        dt_true[dt_all[i]] += 1\n",
    "    else:\n",
    "        dt_false[dt_all[i]] += 1"
   ]
  },
  {
   "cell_type": "code",
   "execution_count": 23,
   "metadata": {},
   "outputs": [],
   "source": [
    "knn_percentage_false = knn_false/(knn_true + knn_false)*100\n",
    "svm_percentage_false = svm_false/(svm_true + svm_false)*100\n",
    "dt_percentage_false = dt_false/(dt_true+dt_false)*100"
   ]
  },
  {
   "cell_type": "code",
   "execution_count": 25,
   "metadata": {},
   "outputs": [
    {
     "data": {
      "image/png": "[encoded data removed]",
      "text/plain": [
       "<Figure size 432x288 with 1 Axes>"
      ]
     },
     "metadata": {
      "needs_background": "light"
     },
     "output_type": "display_data"
    }
   ],
   "source": [
    "import numpy as np\n",
    "import matplotlib.pyplot as plt\n",
    " \n",
    "# data to plot\n",
    "n_groups = 24\n",
    " \n",
    "# create plot\n",
    "fig, ax = plt.subplots()\n",
    "index = np.arange(n_groups)\n",
    "bar_width = 0.35\n",
    "opacity = 0.8\n",
    " \n",
    "rects1 = plt.bar(index, knn_percentage_false, bar_width,\n",
    "alpha=opacity,\n",
    "color='b',\n",
    "label='knn')\n",
    " \n",
    "rects2 = plt.bar(index + bar_width, svm_percentage_false, bar_width,\n",
    "alpha=opacity,\n",
    "color='g',\n",
    "label='svm')\n",
    "\n",
    "rects2 = plt.bar(index + 2*bar_width, dt_percentage_false, bar_width,\n",
    "alpha=opacity,\n",
    "color='r',\n",
    "label='dt')\n",
    " \n",
    "plt.xlabel('label')\n",
    "plt.ylabel('Percentage')\n",
    "plt.title('Error percentage per label')\n",
    "plt.xticks(index + bar_width, range(24))\n",
    "plt.legend()\n",
    " \n",
    "plt.tight_layout()\n",
    "plt.show()"
   ]
  }
 ],
 "metadata": {
  "kernelspec": {
   "display_name": "Python 3",
   "language": "python",
   "name": "python3"
  },
  "language_info": {
   "codemirror_mode": {
    "name": "ipython",
    "version": 3
   },
   "file_extension": ".py",
   "mimetype": "text/x-python",
   "name": "python",
   "nbconvert_exporter": "python",
   "pygments_lexer": "ipython3",
   "version": "3.6.8"
  }
 },
 "nbformat": 4,
 "nbformat_minor": 2
}
