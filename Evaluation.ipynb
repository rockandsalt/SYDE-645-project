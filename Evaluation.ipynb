{
 "cells": [
  {
   "cell_type": "code",
   "execution_count": 3,
   "metadata": {},
   "outputs": [],
   "source": [
    "import numpy as np\n",
    "import os\n",
    "import pandas as pd\n",
    "from sklearn.model_selection import train_test_split\n",
    "from sklearn.neighbors import KNeighborsClassifier\n",
    "from sklearn.ensemble import AdaBoostClassifier\n",
    "from sklearn.svm import SVC\n",
    "from sklearn.decomposition import PCA\n",
    "from sklearn import tree\n",
    "from sklearn.model_selection import StratifiedKFold\n",
    "import time\n",
    "\n",
    "data_path = os.path.join('.','tests','test_output')"
   ]
  },
  {
   "cell_type": "code",
   "execution_count": 4,
   "metadata": {},
   "outputs": [
    {
     "name": "stdout",
     "output_type": "stream",
     "text": [
      "knn score:0.602020202020202, time: 0.1874837875366211\n",
      "svm score:0.6717171717171717, time: 0.3124856948852539\n",
      "dt score:0.604040404040404, time: 0.3124856948852539\n",
      "knn score:0.603030303030303, time: 0.18748903274536133\n",
      "svm score:0.6323232323232323, time: 0.3281056880950928\n",
      "dt score:0.5464646464646464, time: 0.3281056880950928\n",
      "knn score:0.5959595959595959, time: 0.2031238079071045\n",
      "svm score:0.6262626262626263, time: 0.34375810623168945\n",
      "dt score:0.5181818181818182, time: 0.34375810623168945\n",
      "knn score:0.5262626262626262, time: 0.201934814453125\n",
      "svm score:0.5828282828282828, time: 0.3568534851074219\n",
      "dt score:0.4575757575757576, time: 0.3578805923461914\n",
      "knn score:0.5828282828282828, time: 0.1875\n",
      "svm score:0.6434343434343435, time: 0.3281230926513672\n",
      "dt score:0.5606060606060606, time: 0.3281230926513672\n",
      "knn score:0.5212121212121212, time: 0.20311427116394043\n",
      "svm score:0.5696969696969697, time: 0.3437380790710449\n",
      "dt score:0.4909090909090909, time: 0.3437380790710449\n",
      "knn score:0.592929292929293, time: 0.18750548362731934\n",
      "svm score:0.6292929292929293, time: 0.32813191413879395\n",
      "dt score:0.5323232323232323, time: 0.32813191413879395\n",
      "knn score:0.604040404040404, time: 0.18604278564453125\n",
      "svm score:0.6424242424242425, time: 0.31817126274108887\n",
      "dt score:0.5767676767676768, time: 0.31817126274108887\n"
     ]
    }
   ],
   "source": [
    "for i in range(8):\n",
    "    pca = PCA(n_components = 100)\n",
    "    X = np.load(os.path.join(data_path,'x_split_{}.npy'.format(i)),mmap_mode='r')\n",
    "    Y = np.load(os.path.join(data_path,'y_split_{}.npy'.format(i)),mmap_mode='r')\n",
    "    \n",
    "    X_train, X_test, y_train, y_test = train_test_split(X, Y, test_size=0.33, stratify = Y)\n",
    "    \n",
    "    X_train = pca.fit_transform(X_train)\n",
    "    X_test = pca.transform(X_test)\n",
    "    \n",
    "    knn = KNeighborsClassifier(n_neighbors=1)\n",
    "    svm = SVC(C=1000,kernel = 'linear')\n",
    "    dt = tree.DecisionTreeClassifier()\n",
    "    \n",
    "    knn.fit(X_train,y_train)\n",
    "    svm.fit(X_train,y_train)\n",
    "    dt.fit(X_train,y_train)\n",
    "    \n",
    "    start_time = time.time()\n",
    "    knn_sc = knn.score(X_test,y_test)\n",
    "    print(\"knn score:{}, time: {}\".format(knn_sc,time.time()-start_time))\n",
    "    svm_sc = svm.score(X_test,y_test)\n",
    "    print(\"svm score:{}, time: {}\".format(svm_sc,time.time()-start_time))\n",
    "    dt_sc = dt.score(X_test,y_test)\n",
    "    print(\"dt score:{}, time: {}\".format(dt_sc,time.time()-start_time))"
   ]
  },
  {
   "cell_type": "code",
   "execution_count": null,
   "metadata": {},
   "outputs": [],
   "source": [
    "tree = DecisionTreeClassifier(max_depth = 10)\n",
    "ada_tree = AdaBoostClassifier(base_estimator=tree,algorithm='SAMME')\n",
    "\n",
    "X = np.load(os.path.join(data_path,'X.npy'.format(i)),mmap_mode='r')\n",
    "Y = np.load(os.path.join(data_path,'Y.npy'.format(i)),mmap_mode='r')\n",
    "\n",
    "X_train, X_test, y_train, y_test = train_test_split(X, Y, test_size=0.33, stratify = Y)\n",
    "\n",
    "\n",
    "ada_tree.fit(X_train,y_train)\n",
    "\n",
    "ada_score = ada_tree.score(X_test,y_test)\n",
    "print(ada_score)"
   ]
  }
 ],
 "metadata": {
  "kernelspec": {
   "display_name": "Python 3",
   "language": "python",
   "name": "python3"
  },
  "language_info": {
   "codemirror_mode": {
    "name": "ipython",
    "version": 3
   },
   "file_extension": ".py",
   "mimetype": "text/x-python",
   "name": "python",
   "nbconvert_exporter": "python",
   "pygments_lexer": "ipython3",
   "version": "3.6.8"
  }
 },
 "nbformat": 4,
 "nbformat_minor": 2
}
