{
 "cells": [
  {
   "cell_type": "markdown",
   "metadata": {},
   "source": [
    "This code, evaluates the best classifier found in the tuning phase agaisnt the rest of the dataset. "
   ]
  },
  {
   "cell_type": "code",
   "execution_count": null,
   "metadata": {},
   "outputs": [],
   "source": [
    "import numpy as np\n",
    "import os\n",
    "import pandas as pd\n",
    "from sklearn.model_selection import train_test_split\n",
    "from sklearn.neighbors import KNeighborsClassifier\n",
    "from sklearn.ensemble import AdaBoostClassifier\n",
    "from sklearn.svm import SVC\n",
    "from sklearn.decomposition import PCA\n",
    "from sklearn import tree\n",
    "from sklearn.model_selection import StratifiedKFold\n",
    "import time\n",
    "\n",
    "data_path = os.path.join('.','tests','test_output')"
   ]
  },
  {
   "cell_type": "code",
   "execution_count": null,
   "metadata": {},
   "outputs": [],
   "source": [
    "y_true = []\n",
    "\n",
    "knn_y = []\n",
    "svm_y = []\n",
    "dt_y = []\n",
    "# Run training and test on the rest of the dataset batch\n",
    "# use best parameter found during hypertuning\n",
    "for i in range(8):\n",
    "    pca = PCA(n_components = 100)\n",
    "    X = np.load(os.path.join(data_path,'x_split_{}.npy'.format(i)),mmap_mode='r')\n",
    "    Y = np.load(os.path.join(data_path,'y_split_{}.npy'.format(i)),mmap_mode='r')\n",
    "    \n",
    "    X_train, X_test, y_train, y_test = train_test_split(X, Y, test_size=0.33, stratify = Y)\n",
    "    \n",
    "    X_train = pca.fit_transform(X_train)\n",
    "    X_test = pca.transform(X_test)\n",
    "    \n",
    "    knn = KNeighborsClassifier(n_neighbors=1)\n",
    "    svm = SVC(C=1000,kernel = 'linear')\n",
    "    dt = tree.DecisionTreeClassifier()\n",
    "    \n",
    "    knn.fit(X_train,y_train)\n",
    "    svm.fit(X_train,y_train)\n",
    "    dt.fit(X_train,y_train)\n",
    "    \n",
    "    y_true.append(y_test)\n",
    "    start_time = time.time()\n",
    "    knn_y.append(knn.predict(X_test))\n",
    "    print(time.time()-start_time)\n",
    "    svm_y.append(svm.predict(X_test))\n",
    "    print(time.time()-start_time)\n",
    "    dt_y.append(dt.predict(X_test))\n",
    "    print(time.time()-start_time)\n",
    "    "
   ]
  },
  {
   "cell_type": "markdown",
   "metadata": {},
   "source": [
    "Do q chochrans test to check if any of the 3 classifier are different."
   ]
  },
  {
   "cell_type": "code",
   "execution_count": null,
   "metadata": {},
   "outputs": [],
   "source": [
    "from mlxtend.evaluate import cochrans_q\n",
    "import numpy as np\n",
    "import itertools\n",
    "\n",
    "y_all = np.ravel(y_true)\n",
    "knn_all = np.ravel(knn_y)\n",
    "dt_all = np.ravel(dt_y)\n",
    "svm_all = np.ravel(svm_y)\n",
    "\n",
    "q, p_value = cochrans_q(y_all, \n",
    "                    knn_all, \n",
    "                    svm_all, \n",
    "                    dt_all)\n",
    "print(\"q:{},p:{}\".format(q, p_value))"
   ]
  },
  {
   "cell_type": "code",
   "execution_count": null,
   "metadata": {},
   "outputs": [],
   "source": [
    "for i in range(8):\n",
    "    knn_sc = np.mean(y_true[i]==knn_y[i])\n",
    "    print(\"knn score:{}\".format(knn_sc))\n",
    "    \n",
    "    svm_sc = np.mean(y_true[i]==svm_y[i])\n",
    "    print(\"svm score:{}\".format(svm_sc))\n",
    "    \n",
    "    dt_sc = np.mean(y_true[i]==dt_y[i])\n",
    "    print(\"dt score:{}\".format(dt_sc))"
   ]
  },
  {
   "cell_type": "code",
   "execution_count": null,
   "metadata": {},
   "outputs": [],
   "source": [
    "import numpy as np\n",
    "from mlxtend.evaluate import mcnemar_table\n",
    "from mlxtend.evaluate import mcnemar\n",
    "\n",
    "\n",
    "print(\"compare knn svm\\n\")\n",
    "knn_svm_tb = mcnemar_table(y_target=y_all, \n",
    "               y_model1=knn_all, \n",
    "               y_model2=svm_all)\n",
    "print(knn_svm_tb)\n",
    "\n",
    "chi2, p = mcnemar(ary=knn_svm_tb, corrected=True)\n",
    "print('chi-squared:', chi2)\n",
    "print('p-value:', p)\n",
    "\n",
    "print(\"compare knn dt\\n\")\n",
    "knn_dt_tb = mcnemar_table(y_target=y_all, \n",
    "           y_model1=knn_all, \n",
    "           y_model2=dt_all)\n",
    "\n",
    "print(knn_dt_tb)\n",
    "\n",
    "chi2, p = mcnemar(ary=knn_dt_tb, corrected=True)\n",
    "print('chi-squared:', chi2)\n",
    "print('p-value:', p)\n",
    "\n",
    "print(\"compare svm dt\\n\")\n",
    "svm_dt_tb = mcnemar_table(y_target=y_all, \n",
    "       y_model1=svm_all, \n",
    "       y_model2=dt_all)\n",
    "\n",
    "print(svm_dt_tb)\n",
    "\n",
    "chi2, p = mcnemar(ary=svm_dt_tb, corrected=True)\n",
    "print('chi-squared:', chi2)\n",
    "print('p-value:', p)"
   ]
  }
 ],
 "metadata": {
  "kernelspec": {
   "display_name": "Python 3",
   "language": "python",
   "name": "python3"
  },
  "language_info": {
   "codemirror_mode": {
    "name": "ipython",
    "version": 3
   },
   "file_extension": ".py",
   "mimetype": "text/x-python",
   "name": "python",
   "nbconvert_exporter": "python",
   "pygments_lexer": "ipython3",
   "version": "3.6.8"
  }
 },
 "nbformat": 4,
 "nbformat_minor": 2
}
