{
 "cells": [
  {
   "cell_type": "code",
   "execution_count": 19,
   "metadata": {},
   "outputs": [],
   "source": [
    "import numpy as np\n",
    "import os\n",
    "import pandas as pd\n",
    "from sklearn import svm\n",
    "from sklearn.model_selection import GridSearchCV\n",
    "from sklearn.model_selection import train_test_split\n",
    "from sklearn.neighbors import KNeighborsClassifier\n",
    "from sklearn.ensemble import AdaBoostClassifier\n",
    "from sklearn import svm\n",
    "from sklearn.pipeline import Pipeline\n",
    "from sklearn.decomposition import PCA\n",
    "from sklearn import tree\n",
    "    \n",
    "data_path = os.path.join('.','tests','test_output')\n",
    "\n",
    "X = np.load(os.path.join(data_path,'x_split_0.npy'),mmap_mode='r')\n",
    "Y = np.load(os.path.join(data_path,'y_split_0.npy'),mmap_mode='r')\n",
    "\n",
    "param_ada = {\n",
    "    'ada__n_estimators': [50, 100],\n",
    "    'ada__learning_rate' : [0.01,0.1,0.3,1],\n",
    "    'pca__n_components':[100]\n",
    "}"
   ]
  },
  {
   "cell_type": "code",
   "execution_count": 20,
   "metadata": {},
   "outputs": [],
   "source": [
    "X_train, X_test, y_train, y_test = train_test_split(X, Y, test_size=0.33, stratify = Y)"
   ]
  },
  {
   "cell_type": "code",
   "execution_count": 21,
   "metadata": {},
   "outputs": [
    {
     "data": {
      "text/plain": [
       "GridSearchCV(cv=3, error_score='raise-deprecating',\n",
       "       estimator=Pipeline(memory=None,\n",
       "     steps=[('pca', PCA(copy=True, iterated_power='auto', n_components=None, random_state=None,\n",
       "  svd_solver='auto', tol=0.0, whiten=False)), ('ada', AdaBoostClassifier(algorithm='SAMME',\n",
       "          base_estimator=SVC(C=1000, cache_size=200, class_weight=None, coef0=0.0,\n",
       "  decision_function_shape='ovr', d...=True, tol=0.001, verbose=False),\n",
       "          learning_rate=1.0, n_estimators=50, random_state=None))]),\n",
       "       fit_params=None, iid='warn', n_jobs=10,\n",
       "       param_grid={'ada__n_estimators': [50, 100], 'ada__learning_rate': [0.01, 0.1, 0.3, 1], 'pca__n_components': [100]},\n",
       "       pre_dispatch=15, refit=True, return_train_score=True, scoring=None,\n",
       "       verbose=0)"
      ]
     },
     "execution_count": 21,
     "metadata": {},
     "output_type": "execute_result"
    }
   ],
   "source": [
    "svm = svm.SVC(C=1000,kernel = 'linear')\n",
    "ada_svm = AdaBoostClassifier(base_estimator=svm,algorithm='SAMME')\n",
    "pca = PCA()\n",
    "\n",
    "pipe = Pipeline(steps=[('pca', pca), ('ada', ada_svm)])\n",
    "\n",
    "clf_svm = GridSearchCV(pipe, param_ada, cv=3, n_jobs = 10,pre_dispatch = 15,return_train_score=True)\n",
    "clf_svm.fit(X_train,y_train)"
   ]
  },
  {
   "cell_type": "code",
   "execution_count": 22,
   "metadata": {},
   "outputs": [],
   "source": [
    "results_svm = pd.DataFrame.from_dict(clf_svm.cv_results_)\n",
    "results_svm.to_csv(os.path.join(data_path,'pca_svm_ada.csv'))"
   ]
  },
  {
   "cell_type": "code",
   "execution_count": 25,
   "metadata": {},
   "outputs": [
    {
     "data": {
      "text/plain": [
       "GridSearchCV(cv=3, error_score='raise-deprecating',\n",
       "       estimator=Pipeline(memory=None,\n",
       "     steps=[('pca', PCA(copy=True, iterated_power='auto', n_components=None, random_state=None,\n",
       "  svd_solver='auto', tol=0.0, whiten=False)), ('ada', AdaBoostClassifier(algorithm='SAMME',\n",
       "          base_estimator=DecisionTreeClassifier(class_weight=None, criterion='gini', max_depth=None,\n",
       "            max_...ne,\n",
       "            splitter='best'),\n",
       "          learning_rate=1.0, n_estimators=50, random_state=None))]),\n",
       "       fit_params=None, iid='warn', n_jobs=10,\n",
       "       param_grid={'ada__n_estimators': [50, 100], 'ada__learning_rate': [0.01, 0.1, 0.3, 1], 'pca__n_components': [100]},\n",
       "       pre_dispatch=15, refit=True, return_train_score=True, scoring=None,\n",
       "       verbose=0)"
      ]
     },
     "execution_count": 25,
     "metadata": {},
     "output_type": "execute_result"
    }
   ],
   "source": [
    "from sklearn.tree import DecisionTreeClassifier\n",
    "tree = DecisionTreeClassifier()\n",
    "ada_tree = AdaBoostClassifier(base_estimator=tree,algorithm='SAMME')\n",
    "pca_ = PCA()\n",
    "pipe = Pipeline(steps=[('pca', pca), ('ada', ada_tree)])\n",
    "\n",
    "clf_tree = GridSearchCV(pipe, param_ada, cv=3, n_jobs = 10,pre_dispatch = 15,return_train_score=True)\n",
    "clf_tree.fit(X_train,y_train)"
   ]
  },
  {
   "cell_type": "code",
   "execution_count": 26,
   "metadata": {},
   "outputs": [],
   "source": [
    "results_tree = pd.DataFrame.from_dict(clf_tree.cv_results_)\n",
    "results_tree.to_csv(os.path.join(data_path,'pca_ada_tree.csv'))"
   ]
  }
 ],
 "metadata": {
  "kernelspec": {
   "display_name": "Python 3",
   "language": "python",
   "name": "python3"
  },
  "language_info": {
   "codemirror_mode": {
    "name": "ipython",
    "version": 3
   },
   "file_extension": ".py",
   "mimetype": "text/x-python",
   "name": "python",
   "nbconvert_exporter": "python",
   "pygments_lexer": "ipython3",
   "version": "3.6.8"
  }
 },
 "nbformat": 4,
 "nbformat_minor": 2
}
