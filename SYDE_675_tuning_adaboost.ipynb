{
 "cells": [
  {
   "cell_type": "markdown",
   "metadata": {},
   "source": [
    "Hyperparameter tuning for Adaboost. Base classifier hyperparameter chosen from SYDE_675_tuning. "
   ]
  },
  {
   "cell_type": "code",
   "execution_count": null,
   "metadata": {},
   "outputs": [],
   "source": [
    "import numpy as np\n",
    "import os\n",
    "import pandas as pd\n",
    "from sklearn import svm\n",
    "from sklearn.model_selection import GridSearchCV\n",
    "from sklearn.model_selection import train_test_split\n",
    "from sklearn.neighbors import KNeighborsClassifier\n",
    "from sklearn.ensemble import GradientBoostingClassifier\n",
    "from sklearn import svm\n",
    "from sklearn.pipeline import Pipeline\n",
    "from sklearn.decomposition import PCA\n",
    "from sklearn import tree\n",
    "    \n",
    "data_path = os.path.join('.','tests','test_output')\n",
    "\n",
    "X = np.load(os.path.join(data_path,'x_split_0.npy'),mmap_mode='r')\n",
    "Y = np.load(os.path.join(data_path,'y_split_0.npy'),mmap_mode='r')\n",
    "\n",
    "param_ada = {\n",
    "    'ada__n_estimators': [50, 100],\n",
    "    'ada__learning_rate' : [0.01,0.1,0.3,1],\n",
    "    'pca__n_components':[100]\n",
    "}"
   ]
  },
  {
   "cell_type": "code",
   "execution_count": null,
   "metadata": {},
   "outputs": [],
   "source": [
    "svm = svm.SVC(C=1000,kernel = 'linear')\n",
    "ada_svm = AdaBoostClassifier(base_estimator=svm,algorithm='SAMME')\n",
    "pca = PCA()\n",
    "\n",
    "pipe = Pipeline(steps=[('pca', pca), ('ada', ada_svm)])\n",
    "\n",
    "clf_svm = GridSearchCV(pipe, param_ada, cv=3, n_jobs = 10,pre_dispatch = 15,return_train_score=True)\n",
    "clf_svm.fit(X,Y)"
   ]
  },
  {
   "cell_type": "code",
   "execution_count": null,
   "metadata": {},
   "outputs": [],
   "source": [
    "results_svm = pd.DataFrame.from_dict(clf_svm.cv_results_)\n",
    "results_svm.to_csv(os.path.join(data_path,'pca_svm_ada.csv'))"
   ]
  },
  {
   "cell_type": "code",
   "execution_count": null,
   "metadata": {},
   "outputs": [],
   "source": [
    "from sklearn.tree import DecisionTreeClassifier\n",
    "tree = DecisionTreeClassifier()\n",
    "ada_tree = AdaBoostClassifier(base_estimator=tree,algorithm='SAMME')\n",
    "pca_ = PCA()\n",
    "pipe = Pipeline(steps=[('pca', pca), ('ada', ada_tree)])\n",
    "\n",
    "clf_tree = GridSearchCV(pipe, param_ada, cv=3, n_jobs = 10,pre_dispatch = 15,return_train_score=True)\n",
    "clf_tree.fit(X_train,y_train)"
   ]
  },
  {
   "cell_type": "code",
   "execution_count": null,
   "metadata": {},
   "outputs": [],
   "source": [
    "results_tree = pd.DataFrame.from_dict(clf_tree.cv_results_)\n",
    "results_tree.to_csv(os.path.join(data_path,'pca_ada_tree.csv'))"
   ]
  }
 ],
 "metadata": {
  "kernelspec": {
   "display_name": "Python 3",
   "language": "python",
   "name": "python3"
  },
  "language_info": {
   "codemirror_mode": {
    "name": "ipython",
    "version": 3
   },
   "file_extension": ".py",
   "mimetype": "text/x-python",
   "name": "python",
   "nbconvert_exporter": "python",
   "pygments_lexer": "ipython3",
   "version": "3.6.8"
  }
 },
 "nbformat": 4,
 "nbformat_minor": 2
}
