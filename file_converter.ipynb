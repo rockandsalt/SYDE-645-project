{
 "cells": [
  {
   "cell_type": "markdown",
   "metadata": {},
   "source": [
    "Dataloader, Run this first if only stl present"
   ]
  },
  {
   "cell_type": "code",
   "execution_count": null,
   "metadata": {},
   "outputs": [],
   "source": [
    "import utils.dataloader\n",
    "\n",
    "output_path = os.path.join('.','tests','test_output')\n",
    "\n",
    "#voxelize stl and store as hdf5 file\n",
    "utils.dataloader.convert_all_data(output_path)\n",
    "#convert to numpy file for convenience\n",
    "utils.dataloader.save_numpy(os.path.join(output_path,'data.hdf5'),output_path)"
   ]
  },
  {
   "cell_type": "code",
   "execution_count": null,
   "metadata": {},
   "outputs": [],
   "source": [
    "#split into 8 pieces using stratified kfold\n",
    "utils.dataloader.split_data(self.output_path,'split')"
   ]
  }
 ],
 "metadata": {
  "kernelspec": {
   "display_name": "Python 3",
   "language": "python",
   "name": "python3"
  },
  "language_info": {
   "codemirror_mode": {
    "name": "ipython",
    "version": 3
   },
   "file_extension": ".py",
   "mimetype": "text/x-python",
   "name": "python",
   "nbconvert_exporter": "python",
   "pygments_lexer": "ipython3",
   "version": "3.6.8"
  }
 },
 "nbformat": 4,
 "nbformat_minor": 2
}
